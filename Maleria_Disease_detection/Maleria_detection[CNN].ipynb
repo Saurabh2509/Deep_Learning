{
  "nbformat": 4,
  "nbformat_minor": 0,
  "metadata": {
    "colab": {
      "name": "Maleria_detection[CNN].ipynb",
      "provenance": [],
      "collapsed_sections": []
    },
    "kernelspec": {
      "name": "python3",
      "display_name": "Python 3"
    },
    "language_info": {
      "name": "python"
    },
    "accelerator": "GPU"
  },
  "cells": [
    {
      "cell_type": "code",
      "metadata": {
        "colab": {
          "base_uri": "https://localhost:8080/"
        },
        "id": "fp0ZKKjbSIop",
        "outputId": "94b2870a-a612-45d4-bfd9-aad5887651a8"
      },
      "source": [
        "!unzip /content/Dataset_Malaria.zip"
      ],
      "execution_count": null,
      "outputs": [
        {
          "output_type": "stream",
          "text": [
            "Archive:  /content/Dataset_Malaria.zip\n",
            "   creating: Dataset/Test/\n",
            "   creating: Dataset/Test/Parasite/\n",
            " extracting: Dataset/Test/Parasite/C39P4thinF_original_IMG_20150622_105554_cell_10.png  \n",
            " extracting: Dataset/Test/Parasite/C39P4thinF_original_IMG_20150622_105554_cell_11.png  \n",
            "  inflating: Dataset/Test/Parasite/C39P4thinF_original_IMG_20150622_105554_cell_12.png  \n",
            " extracting: Dataset/Test/Parasite/C39P4thinF_original_IMG_20150622_105554_cell_13.png  \n",
            " extracting: Dataset/Test/Parasite/C39P4thinF_original_IMG_20150622_105554_cell_14.png  \n",
            "  inflating: Dataset/Test/Parasite/C39P4thinF_original_IMG_20150622_105554_cell_15.png  \n",
            " extracting: Dataset/Test/Parasite/C39P4thinF_original_IMG_20150622_105554_cell_16.png  \n",
            " extracting: Dataset/Test/Parasite/C39P4thinF_original_IMG_20150622_105554_cell_17.png  \n",
            " extracting: Dataset/Test/Parasite/C39P4thinF_original_IMG_20150622_105554_cell_18.png  \n",
            " extracting: Dataset/Test/Parasite/C39P4thinF_original_IMG_20150622_105554_cell_19.png  \n",
            " extracting: Dataset/Test/Parasite/C39P4thinF_original_IMG_20150622_105554_cell_20.png  \n",
            " extracting: Dataset/Test/Parasite/C39P4thinF_original_IMG_20150622_105554_cell_21.png  \n",
            " extracting: Dataset/Test/Parasite/C39P4thinF_original_IMG_20150622_105554_cell_22.png  \n",
            " extracting: Dataset/Test/Parasite/C39P4thinF_original_IMG_20150622_105554_cell_23.png  \n",
            " extracting: Dataset/Test/Parasite/C39P4thinF_original_IMG_20150622_105554_cell_24.png  \n",
            " extracting: Dataset/Test/Parasite/C39P4thinF_original_IMG_20150622_105554_cell_25.png  \n",
            " extracting: Dataset/Test/Parasite/C39P4thinF_original_IMG_20150622_105554_cell_26.png  \n",
            " extracting: Dataset/Test/Parasite/C39P4thinF_original_IMG_20150622_105554_cell_9.png  \n",
            " extracting: Dataset/Test/Parasite/C39P4thinF_original_IMG_20150622_105803_cell_100.png  \n",
            " extracting: Dataset/Test/Parasite/C39P4thinF_original_IMG_20150622_105803_cell_101.png  \n",
            " extracting: Dataset/Test/Parasite/C39P4thinF_original_IMG_20150622_105803_cell_102.png  \n",
            " extracting: Dataset/Test/Parasite/C39P4thinF_original_IMG_20150622_105803_cell_103.png  \n",
            " extracting: Dataset/Test/Parasite/C39P4thinF_original_IMG_20150622_105803_cell_104.png  \n",
            " extracting: Dataset/Test/Parasite/C39P4thinF_original_IMG_20150622_105803_cell_105.png  \n",
            " extracting: Dataset/Test/Parasite/C39P4thinF_original_IMG_20150622_105803_cell_106.png  \n",
            " extracting: Dataset/Test/Parasite/C39P4thinF_original_IMG_20150622_105803_cell_107.png  \n",
            " extracting: Dataset/Test/Parasite/C39P4thinF_original_IMG_20150622_105803_cell_108.png  \n",
            " extracting: Dataset/Test/Parasite/C39P4thinF_original_IMG_20150622_105803_cell_109.png  \n",
            " extracting: Dataset/Test/Parasite/C39P4thinF_original_IMG_20150622_105803_cell_110.png  \n",
            " extracting: Dataset/Test/Parasite/C39P4thinF_original_IMG_20150622_105803_cell_111.png  \n",
            " extracting: Dataset/Test/Parasite/C39P4thinF_original_IMG_20150622_105803_cell_112.png  \n",
            " extracting: Dataset/Test/Parasite/C39P4thinF_original_IMG_20150622_105803_cell_78.png  \n",
            " extracting: Dataset/Test/Parasite/C39P4thinF_original_IMG_20150622_105803_cell_79.png  \n",
            " extracting: Dataset/Test/Parasite/C39P4thinF_original_IMG_20150622_105803_cell_80.png  \n",
            " extracting: Dataset/Test/Parasite/C39P4thinF_original_IMG_20150622_105803_cell_81.png  \n",
            " extracting: Dataset/Test/Parasite/C39P4thinF_original_IMG_20150622_105803_cell_82.png  \n",
            " extracting: Dataset/Test/Parasite/C39P4thinF_original_IMG_20150622_105803_cell_83.png  \n",
            " extracting: Dataset/Test/Parasite/C39P4thinF_original_IMG_20150622_105803_cell_84.png  \n",
            " extracting: Dataset/Test/Parasite/C39P4thinF_original_IMG_20150622_105803_cell_85.png  \n",
            " extracting: Dataset/Test/Parasite/C39P4thinF_original_IMG_20150622_105803_cell_86.png  \n",
            " extracting: Dataset/Test/Parasite/C39P4thinF_original_IMG_20150622_105803_cell_87.png  \n",
            " extracting: Dataset/Test/Parasite/C39P4thinF_original_IMG_20150622_105803_cell_88.png  \n",
            " extracting: Dataset/Test/Parasite/C39P4thinF_original_IMG_20150622_105803_cell_89.png  \n",
            " extracting: Dataset/Test/Parasite/C39P4thinF_original_IMG_20150622_105803_cell_90.png  \n",
            " extracting: Dataset/Test/Parasite/C39P4thinF_original_IMG_20150622_105803_cell_91.png  \n",
            " extracting: Dataset/Test/Parasite/C39P4thinF_original_IMG_20150622_105803_cell_92.png  \n",
            " extracting: Dataset/Test/Parasite/C39P4thinF_original_IMG_20150622_105803_cell_93.png  \n",
            " extracting: Dataset/Test/Parasite/C39P4thinF_original_IMG_20150622_105803_cell_94.png  \n",
            " extracting: Dataset/Test/Parasite/C39P4thinF_original_IMG_20150622_105803_cell_95.png  \n",
            " extracting: Dataset/Test/Parasite/C39P4thinF_original_IMG_20150622_105803_cell_96.png  \n",
            " extracting: Dataset/Test/Parasite/C39P4thinF_original_IMG_20150622_105803_cell_97.png  \n",
            " extracting: Dataset/Test/Parasite/C39P4thinF_original_IMG_20150622_105803_cell_98.png  \n",
            " extracting: Dataset/Test/Parasite/C39P4thinF_original_IMG_20150622_105803_cell_99.png  \n",
            " extracting: Dataset/Test/Parasite/C39P4thinF_original_IMG_20150622_110115_cell_104.png  \n",
            " extracting: Dataset/Test/Parasite/C39P4thinF_original_IMG_20150622_110115_cell_105.png  \n",
            " extracting: Dataset/Test/Parasite/C39P4thinF_original_IMG_20150622_110115_cell_106.png  \n",
            " extracting: Dataset/Test/Parasite/C39P4thinF_original_IMG_20150622_110115_cell_107.png  \n",
            " extracting: Dataset/Test/Parasite/C39P4thinF_original_IMG_20150622_110115_cell_108.png  \n",
            " extracting: Dataset/Test/Parasite/C39P4thinF_original_IMG_20150622_110115_cell_109.png  \n",
            " extracting: Dataset/Test/Parasite/C39P4thinF_original_IMG_20150622_110115_cell_110.png  \n",
            " extracting: Dataset/Test/Parasite/C39P4thinF_original_IMG_20150622_110115_cell_111.png  \n",
            " extracting: Dataset/Test/Parasite/C39P4thinF_original_IMG_20150622_110115_cell_112.png  \n",
            " extracting: Dataset/Test/Parasite/C39P4thinF_original_IMG_20150622_110115_cell_113.png  \n",
            " extracting: Dataset/Test/Parasite/C39P4thinF_original_IMG_20150622_110115_cell_114.png  \n",
            " extracting: Dataset/Test/Parasite/C39P4thinF_original_IMG_20150622_110115_cell_115.png  \n",
            " extracting: Dataset/Test/Parasite/C39P4thinF_original_IMG_20150622_110115_cell_116.png  \n",
            " extracting: Dataset/Test/Parasite/C39P4thinF_original_IMG_20150622_110115_cell_117.png  \n",
            " extracting: Dataset/Test/Parasite/C39P4thinF_original_IMG_20150622_110115_cell_118.png  \n",
            " extracting: Dataset/Test/Parasite/C39P4thinF_original_IMG_20150622_110115_cell_119.png  \n",
            " extracting: Dataset/Test/Parasite/C39P4thinF_original_IMG_20150622_110115_cell_120.png  \n",
            " extracting: Dataset/Test/Parasite/C39P4thinF_original_IMG_20150622_110115_cell_121.png  \n",
            " extracting: Dataset/Test/Parasite/C39P4thinF_original_IMG_20150622_110115_cell_122.png  \n",
            " extracting: Dataset/Test/Parasite/C39P4thinF_original_IMG_20150622_110115_cell_123.png  \n",
            " extracting: Dataset/Test/Parasite/C39P4thinF_original_IMG_20150622_110115_cell_124.png  \n",
            " extracting: Dataset/Test/Parasite/C39P4thinF_original_IMG_20150622_110115_cell_125.png  \n",
            " extracting: Dataset/Test/Parasite/C39P4thinF_original_IMG_20150622_110115_cell_126.png  \n",
            " extracting: Dataset/Test/Parasite/C39P4thinF_original_IMG_20150622_110115_cell_127.png  \n",
            " extracting: Dataset/Test/Parasite/C39P4thinF_original_IMG_20150622_110115_cell_128.png  \n",
            " extracting: Dataset/Test/Parasite/C39P4thinF_original_IMG_20150622_110115_cell_129.png  \n",
            " extracting: Dataset/Test/Parasite/C39P4thinF_original_IMG_20150622_110115_cell_130.png  \n",
            " extracting: Dataset/Test/Parasite/C39P4thinF_original_IMG_20150622_110115_cell_131.png  \n",
            " extracting: Dataset/Test/Parasite/C39P4thinF_original_IMG_20150622_110115_cell_132.png  \n",
            " extracting: Dataset/Test/Parasite/C39P4thinF_original_IMG_20150622_110115_cell_133.png  \n",
            " extracting: Dataset/Test/Parasite/C39P4thinF_original_IMG_20150622_110115_cell_134.png  \n",
            " extracting: Dataset/Test/Parasite/C39P4thinF_original_IMG_20150622_110115_cell_135.png  \n",
            " extracting: Dataset/Test/Parasite/C39P4thinF_original_IMG_20150622_110115_cell_136.png  \n",
            " extracting: Dataset/Test/Parasite/C39P4thinF_original_IMG_20150622_110115_cell_137.png  \n",
            " extracting: Dataset/Test/Parasite/C39P4thinF_original_IMG_20150622_110115_cell_138.png  \n",
            " extracting: Dataset/Test/Parasite/C39P4thinF_original_IMG_20150622_110352_cell_78.png  \n",
            " extracting: Dataset/Test/Parasite/C39P4thinF_original_IMG_20150622_110352_cell_79.png  \n",
            " extracting: Dataset/Test/Parasite/C39P4thinF_original_IMG_20150622_110352_cell_80.png  \n",
            "   creating: Dataset/Test/Uninfected/\n",
            " extracting: Dataset/Test/Uninfected/2.png  \n",
            " extracting: Dataset/Test/Uninfected/C3thin_original_IMG_20150608_162922_cell_145.png  \n",
            " extracting: Dataset/Test/Uninfected/C3thin_original_IMG_20150608_162922_cell_191.png  \n",
            " extracting: Dataset/Test/Uninfected/C3thin_original_IMG_20150608_162922_cell_205.png  \n",
            " extracting: Dataset/Test/Uninfected/C3thin_original_IMG_20150608_162922_cell_211.png  \n",
            " extracting: Dataset/Test/Uninfected/C3thin_original_IMG_20150608_162922_cell_217.png  \n",
            " extracting: Dataset/Test/Uninfected/C3thin_original_IMG_20150608_163002_cell_13.png  \n",
            " extracting: Dataset/Test/Uninfected/C3thin_original_IMG_20150608_163002_cell_144.png  \n",
            " extracting: Dataset/Test/Uninfected/C3thin_original_IMG_20150608_163002_cell_146.png  \n",
            " extracting: Dataset/Test/Uninfected/C3thin_original_IMG_20150608_163002_cell_159.png  \n",
            " extracting: Dataset/Test/Uninfected/C3thin_original_IMG_20150608_163002_cell_195.png  \n",
            " extracting: Dataset/Test/Uninfected/C3thin_original_IMG_20150608_163002_cell_32.png  \n",
            " extracting: Dataset/Test/Uninfected/C3thin_original_IMG_20150608_163002_cell_34.png  \n",
            " extracting: Dataset/Test/Uninfected/C3thin_original_IMG_20150608_163002_cell_39.png  \n",
            " extracting: Dataset/Test/Uninfected/C3thin_original_IMG_20150608_163002_cell_63.png  \n",
            " extracting: Dataset/Test/Uninfected/C3thin_original_IMG_20150608_163002_cell_78.png  \n",
            " extracting: Dataset/Test/Uninfected/C3thin_original_IMG_20150608_163002_cell_81.png  \n",
            " extracting: Dataset/Test/Uninfected/C3thin_original_IMG_20150608_163002_cell_88.png  \n",
            " extracting: Dataset/Test/Uninfected/C3thin_original_IMG_20150608_163002_cell_93.png  \n",
            " extracting: Dataset/Test/Uninfected/C3thin_original_IMG_20150608_163002_cell_97.png  \n",
            " extracting: Dataset/Test/Uninfected/C3thin_original_IMG_20150608_163029_cell_1.png  \n",
            " extracting: Dataset/Test/Uninfected/C3thin_original_IMG_20150608_163029_cell_109.png  \n",
            " extracting: Dataset/Test/Uninfected/C3thin_original_IMG_20150608_163029_cell_121.png  \n",
            " extracting: Dataset/Test/Uninfected/C3thin_original_IMG_20150608_163029_cell_125.png  \n",
            " extracting: Dataset/Test/Uninfected/C3thin_original_IMG_20150608_163029_cell_156.png  \n",
            " extracting: Dataset/Test/Uninfected/C3thin_original_IMG_20150608_163029_cell_166.png  \n",
            " extracting: Dataset/Test/Uninfected/C3thin_original_IMG_20150608_163029_cell_186.png  \n",
            " extracting: Dataset/Test/Uninfected/C3thin_original_IMG_20150608_163029_cell_202.png  \n",
            " extracting: Dataset/Test/Uninfected/C3thin_original_IMG_20150608_163029_cell_220.png  \n",
            " extracting: Dataset/Test/Uninfected/C3thin_original_IMG_20150608_163029_cell_44.png  \n",
            " extracting: Dataset/Test/Uninfected/C3thin_original_IMG_20150608_163029_cell_52.png  \n",
            " extracting: Dataset/Test/Uninfected/C3thin_original_IMG_20150608_163029_cell_57.png  \n",
            " extracting: Dataset/Test/Uninfected/C3thin_original_IMG_20150608_163029_cell_80.png  \n",
            " extracting: Dataset/Test/Uninfected/C3thin_original_IMG_20150608_163029_cell_83.png  \n",
            " extracting: Dataset/Test/Uninfected/C3thin_original_IMG_20150608_163047_cell_103.png  \n",
            " extracting: Dataset/Test/Uninfected/C3thin_original_IMG_20150608_163047_cell_145.png  \n",
            " extracting: Dataset/Test/Uninfected/C3thin_original_IMG_20150608_163047_cell_147.png  \n",
            " extracting: Dataset/Test/Uninfected/C3thin_original_IMG_20150608_163047_cell_161.png  \n",
            " extracting: Dataset/Test/Uninfected/C3thin_original_IMG_20150608_163047_cell_168.png  \n",
            " extracting: Dataset/Test/Uninfected/C3thin_original_IMG_20150608_163047_cell_183.png  \n",
            " extracting: Dataset/Test/Uninfected/C3thin_original_IMG_20150608_163047_cell_22.png  \n",
            " extracting: Dataset/Test/Uninfected/C3thin_original_IMG_20150608_163047_cell_26.png  \n",
            " extracting: Dataset/Test/Uninfected/C3thin_original_IMG_20150608_163047_cell_36.png  \n",
            "   creating: Dataset/Train/\n",
            "   creating: Dataset/Train/Parasite/\n",
            " extracting: Dataset/Train/Parasite/C133P94ThinF_IMG_20151004_155721_cell_111.png  \n",
            " extracting: Dataset/Train/Parasite/C133P94ThinF_IMG_20151004_155721_cell_112.png  \n",
            " extracting: Dataset/Train/Parasite/C133P94ThinF_IMG_20151004_155721_cell_113.png  \n",
            " extracting: Dataset/Train/Parasite/C133P94ThinF_IMG_20151004_155721_cell_114.png  \n",
            " extracting: Dataset/Train/Parasite/C133P94ThinF_IMG_20151004_155721_cell_115.png  \n",
            " extracting: Dataset/Train/Parasite/C133P94ThinF_IMG_20151004_155721_cell_116.png  \n",
            " extracting: Dataset/Train/Parasite/C133P94ThinF_IMG_20151004_155721_cell_117.png  \n",
            " extracting: Dataset/Train/Parasite/C133P94ThinF_IMG_20151004_155721_cell_118.png  \n",
            " extracting: Dataset/Train/Parasite/C133P94ThinF_IMG_20151004_155721_cell_119.png  \n",
            " extracting: Dataset/Train/Parasite/C133P94ThinF_IMG_20151004_155721_cell_120.png  \n",
            " extracting: Dataset/Train/Parasite/C133P94ThinF_IMG_20151004_155721_cell_121.png  \n",
            "  inflating: Dataset/Train/Parasite/C133P94ThinF_IMG_20151004_155721_cell_122.png  \n",
            " extracting: Dataset/Train/Parasite/C133P94ThinF_IMG_20151004_155721_cell_123.png  \n",
            "  inflating: Dataset/Train/Parasite/C133P94ThinF_IMG_20151004_155721_cell_124.png  \n",
            " extracting: Dataset/Train/Parasite/C133P94ThinF_IMG_20151004_155912_cell_1.png  \n",
            " extracting: Dataset/Train/Parasite/C133P94ThinF_IMG_20151004_155912_cell_10.png  \n",
            " extracting: Dataset/Train/Parasite/C133P94ThinF_IMG_20151004_155912_cell_11.png  \n",
            " extracting: Dataset/Train/Parasite/C133P94ThinF_IMG_20151004_155912_cell_12.png  \n",
            " extracting: Dataset/Train/Parasite/C133P94ThinF_IMG_20151004_155912_cell_13.png  \n",
            " extracting: Dataset/Train/Parasite/C133P94ThinF_IMG_20151004_155912_cell_14.png  \n",
            " extracting: Dataset/Train/Parasite/C133P94ThinF_IMG_20151004_155912_cell_15.png  \n",
            " extracting: Dataset/Train/Parasite/C133P94ThinF_IMG_20151004_155912_cell_16.png  \n",
            " extracting: Dataset/Train/Parasite/C133P94ThinF_IMG_20151004_155912_cell_17.png  \n",
            " extracting: Dataset/Train/Parasite/C133P94ThinF_IMG_20151004_155912_cell_18.png  \n",
            " extracting: Dataset/Train/Parasite/C133P94ThinF_IMG_20151004_155912_cell_19.png  \n",
            " extracting: Dataset/Train/Parasite/C133P94ThinF_IMG_20151004_155912_cell_2.png  \n",
            " extracting: Dataset/Train/Parasite/C133P94ThinF_IMG_20151004_155912_cell_20.png  \n",
            " extracting: Dataset/Train/Parasite/C133P94ThinF_IMG_20151004_155912_cell_3.png  \n",
            " extracting: Dataset/Train/Parasite/C133P94ThinF_IMG_20151004_155912_cell_4.png  \n",
            " extracting: Dataset/Train/Parasite/C133P94ThinF_IMG_20151004_155912_cell_5.png  \n",
            " extracting: Dataset/Train/Parasite/C133P94ThinF_IMG_20151004_155912_cell_6.png  \n",
            " extracting: Dataset/Train/Parasite/C133P94ThinF_IMG_20151004_155912_cell_7.png  \n",
            " extracting: Dataset/Train/Parasite/C133P94ThinF_IMG_20151004_155912_cell_8.png  \n",
            " extracting: Dataset/Train/Parasite/C133P94ThinF_IMG_20151004_155912_cell_9.png  \n",
            " extracting: Dataset/Train/Parasite/C134P95ThinF_IMG_20151005_121048_cell_112.png  \n",
            " extracting: Dataset/Train/Parasite/C134P95ThinF_IMG_20151005_121048_cell_113.png  \n",
            " extracting: Dataset/Train/Parasite/C134P95ThinF_IMG_20151005_121343_cell_122.png  \n",
            " extracting: Dataset/Train/Parasite/C134P95ThinF_IMG_20151005_121343_cell_123.png  \n",
            " extracting: Dataset/Train/Parasite/C134P95ThinF_IMG_20151005_121343_cell_124.png  \n",
            " extracting: Dataset/Train/Parasite/C134P95ThinF_IMG_20151005_121425_cell_127.png  \n",
            " extracting: Dataset/Train/Parasite/C134P95ThinF_IMG_20151005_121554_cell_121.png  \n",
            " extracting: Dataset/Train/Parasite/C134P95ThinF_IMG_20151005_121554_cell_122.png  \n",
            " extracting: Dataset/Train/Parasite/C134P95ThinF_IMG_20151005_121656_cell_104.png  \n",
            " extracting: Dataset/Train/Parasite/C134P95ThinF_IMG_20151005_121656_cell_105.png  \n",
            " extracting: Dataset/Train/Parasite/C134P95ThinF_IMG_20151005_121834_cell_120.png  \n",
            "  inflating: Dataset/Train/Parasite/C134P95ThinF_IMG_20151005_121834_cell_121.png  \n",
            " extracting: Dataset/Train/Parasite/C134P95ThinF_IMG_20151005_121834_cell_122.png  \n",
            " extracting: Dataset/Train/Parasite/C134P95ThinF_IMG_20151005_121834_cell_123.png  \n",
            " extracting: Dataset/Train/Parasite/C134P95ThinF_IMG_20151005_121952_cell_120.png  \n",
            " extracting: Dataset/Train/Parasite/C134P95ThinF_IMG_20151005_121952_cell_121.png  \n",
            " extracting: Dataset/Train/Parasite/C134P95ThinF_IMG_20151005_121952_cell_122.png  \n",
            " extracting: Dataset/Train/Parasite/C134P95ThinF_IMG_20151005_121952_cell_123.png  \n",
            " extracting: Dataset/Train/Parasite/C134P95ThinF_IMG_20151005_122331_cell_102.png  \n",
            " extracting: Dataset/Train/Parasite/C134P95ThinF_IMG_20151005_122331_cell_103.png  \n",
            " extracting: Dataset/Train/Parasite/C134P95ThinF_IMG_20151005_122449_cell_133.png  \n",
            " extracting: Dataset/Train/Parasite/C134P95ThinF_IMG_20151005_122449_cell_134.png  \n",
            " extracting: Dataset/Train/Parasite/C134P95ThinF_IMG_20151005_122552_cell_120.png  \n",
            " extracting: Dataset/Train/Parasite/C134P95ThinF_IMG_20151005_122552_cell_121.png  \n",
            " extracting: Dataset/Train/Parasite/C134P95ThinF_IMG_20151005_122552_cell_122.png  \n",
            " extracting: Dataset/Train/Parasite/C134P95ThinF_IMG_20151005_122552_cell_123.png  \n",
            " extracting: Dataset/Train/Parasite/C134P95ThinF_IMG_20151005_122552_cell_124.png  \n",
            " extracting: Dataset/Train/Parasite/C189P150ThinF_IMG_20151203_142113_cell_86.png  \n",
            " extracting: Dataset/Train/Parasite/C189P150ThinF_IMG_20151203_142113_cell_87.png  \n",
            " extracting: Dataset/Train/Parasite/C189P150ThinF_IMG_20151203_142113_cell_88.png  \n",
            " extracting: Dataset/Train/Parasite/C189P150ThinF_IMG_20151203_142113_cell_89.png  \n",
            " extracting: Dataset/Train/Parasite/C189P150ThinF_IMG_20151203_142113_cell_90.png  \n",
            " extracting: Dataset/Train/Parasite/C189P150ThinF_IMG_20151203_142113_cell_91.png  \n",
            " extracting: Dataset/Train/Parasite/C189P150ThinF_IMG_20151203_142113_cell_92.png  \n",
            " extracting: Dataset/Train/Parasite/C189P150ThinF_IMG_20151203_142224_cell_79.png  \n",
            " extracting: Dataset/Train/Parasite/C189P150ThinF_IMG_20151203_142224_cell_80.png  \n",
            " extracting: Dataset/Train/Parasite/C189P150ThinF_IMG_20151203_142224_cell_81.png  \n",
            " extracting: Dataset/Train/Parasite/C189P150ThinF_IMG_20151203_142224_cell_82.png  \n",
            " extracting: Dataset/Train/Parasite/C189P150ThinF_IMG_20151203_142224_cell_83.png  \n",
            " extracting: Dataset/Train/Parasite/C189P150ThinF_IMG_20151203_142224_cell_84.png  \n",
            " extracting: Dataset/Train/Parasite/C189P150ThinF_IMG_20151203_142224_cell_85.png  \n",
            " extracting: Dataset/Train/Parasite/C189P150ThinF_IMG_20151203_142224_cell_86.png  \n",
            " extracting: Dataset/Train/Parasite/C189P150ThinF_IMG_20151203_142224_cell_87.png  \n",
            " extracting: Dataset/Train/Parasite/C189P150ThinF_IMG_20151203_142224_cell_88.png  \n",
            " extracting: Dataset/Train/Parasite/C189P150ThinF_IMG_20151203_142224_cell_89.png  \n",
            " extracting: Dataset/Train/Parasite/C189P150ThinF_IMG_20151203_142224_cell_90.png  \n",
            " extracting: Dataset/Train/Parasite/C189P150ThinF_IMG_20151203_142224_cell_91.png  \n",
            " extracting: Dataset/Train/Parasite/C189P150ThinF_IMG_20151203_142224_cell_92.png  \n",
            " extracting: Dataset/Train/Parasite/C189P150ThinF_IMG_20151203_142224_cell_93.png  \n",
            " extracting: Dataset/Train/Parasite/C189P150ThinF_IMG_20151203_142224_cell_94.png  \n",
            " extracting: Dataset/Train/Parasite/C189P150ThinF_IMG_20151203_142224_cell_95.png  \n",
            " extracting: Dataset/Train/Parasite/C189P150ThinF_IMG_20151203_142224_cell_96.png  \n",
            " extracting: Dataset/Train/Parasite/C189P150ThinF_IMG_20151203_142224_cell_97.png  \n",
            " extracting: Dataset/Train/Parasite/C189P150ThinF_IMG_20151203_142224_cell_98.png  \n",
            "  inflating: Dataset/Train/Parasite/C33P1thinF_IMG_20150619_114756a_cell_179.png  \n",
            " extracting: Dataset/Train/Parasite/C33P1thinF_IMG_20150619_114756a_cell_180.png  \n",
            "  inflating: Dataset/Train/Parasite/C33P1thinF_IMG_20150619_114756a_cell_181.png  \n",
            "  inflating: Dataset/Train/Parasite/C33P1thinF_IMG_20150619_114756a_cell_182.png  \n",
            " extracting: Dataset/Train/Parasite/C33P1thinF_IMG_20150619_115740a_cell_161.png  \n",
            " extracting: Dataset/Train/Parasite/C33P1thinF_IMG_20150619_115740a_cell_162.png  \n",
            " extracting: Dataset/Train/Parasite/C33P1thinF_IMG_20150619_115740a_cell_163.png  \n",
            " extracting: Dataset/Train/Parasite/C33P1thinF_IMG_20150619_115808a_cell_205.png  \n",
            "  inflating: Dataset/Train/Parasite/C33P1thinF_IMG_20150619_115808a_cell_206.png  \n",
            " extracting: Dataset/Train/Parasite/C33P1thinF_IMG_20150619_120645a_cell_215.png  \n",
            " extracting: Dataset/Train/Parasite/C33P1thinF_IMG_20150619_120645a_cell_216.png  \n",
            " extracting: Dataset/Train/Parasite/C33P1thinF_IMG_20150619_120645a_cell_217.png  \n",
            " extracting: Dataset/Train/Parasite/C33P1thinF_IMG_20150619_120742a_cell_210.png  \n",
            " extracting: Dataset/Train/Parasite/C33P1thinF_IMG_20150619_120804a_cell_224.png  \n",
            " extracting: Dataset/Train/Parasite/C33P1thinF_IMG_20150619_120838a_cell_222.png  \n",
            " extracting: Dataset/Train/Parasite/C33P1thinF_IMG_20150619_121102a_cell_193.png  \n",
            " extracting: Dataset/Train/Parasite/C33P1thinF_IMG_20150619_121229a_cell_177.png  \n",
            " extracting: Dataset/Train/Parasite/C33P1thinF_IMG_20150619_121229a_cell_178.png  \n",
            " extracting: Dataset/Train/Parasite/C33P1thinF_IMG_20150619_121229a_cell_179.png  \n",
            " extracting: Dataset/Train/Parasite/C33P1thinF_IMG_20150619_121300a_cell_156.png  \n",
            " extracting: Dataset/Train/Parasite/C33P1thinF_IMG_20150619_121411a_cell_189.png  \n",
            " extracting: Dataset/Train/Parasite/C33P1thinF_IMG_20150619_121411a_cell_190.png  \n",
            " extracting: Dataset/Train/Parasite/C33P1thinF_IMG_20150619_121435a_cell_173.png  \n",
            " extracting: Dataset/Train/Parasite/C33P1thinF_IMG_20150619_121503a_cell_158.png  \n",
            " extracting: Dataset/Train/Parasite/C33P1thinF_IMG_20150619_121503a_cell_159.png  \n",
            "  inflating: Dataset/Train/Parasite/C37BP2_thinF_IMG_20150620_131423a_cell_92.png  \n",
            "  inflating: Dataset/Train/Parasite/C37BP2_thinF_IMG_20150620_131423a_cell_93.png  \n",
            "  inflating: Dataset/Train/Parasite/C37BP2_thinF_IMG_20150620_131423a_cell_94.png  \n",
            "  inflating: Dataset/Train/Parasite/C37BP2_thinF_IMG_20150620_132440a_cell_108.png  \n",
            " extracting: Dataset/Train/Parasite/C37BP2_thinF_IMG_20150620_132847a_cell_76.png  \n",
            " extracting: Dataset/Train/Parasite/C37BP2_thinF_IMG_20150620_132847a_cell_77.png  \n",
            "  inflating: Dataset/Train/Parasite/C37BP2_thinF_IMG_20150620_133001a_cell_76.png  \n",
            " extracting: Dataset/Train/Parasite/C37BP2_thinF_IMG_20150620_133001a_cell_77.png  \n",
            "  inflating: Dataset/Train/Parasite/C37BP2_thinF_IMG_20150620_133111a_cell_86.png  \n",
            "  inflating: Dataset/Train/Parasite/C37BP2_thinF_IMG_20150620_133111a_cell_87.png  \n",
            "  inflating: Dataset/Train/Parasite/C37BP2_thinF_IMG_20150620_133111a_cell_88.png  \n",
            "  inflating: Dataset/Train/Parasite/C37BP2_thinF_IMG_20150620_133205a_cell_87.png  \n",
            "  inflating: Dataset/Train/Parasite/C37BP2_thinF_IMG_20150620_133205a_cell_88.png  \n",
            " extracting: Dataset/Train/Parasite/C37BP2_thinF_IMG_20150620_133238a_cell_97.png  \n",
            "  inflating: Dataset/Train/Parasite/C38P3thinF_original_IMG_20150621_112043_cell_202.png  \n",
            " extracting: Dataset/Train/Parasite/C38P3thinF_original_IMG_20150621_112043_cell_203.png  \n",
            " extracting: Dataset/Train/Parasite/C38P3thinF_original_IMG_20150621_112116_cell_204.png  \n",
            " extracting: Dataset/Train/Parasite/C38P3thinF_original_IMG_20150621_112116_cell_205.png  \n",
            "  inflating: Dataset/Train/Parasite/C38P3thinF_original_IMG_20150621_112138_cell_183.png  \n",
            " extracting: Dataset/Train/Parasite/C38P3thinF_original_IMG_20150621_112246_cell_236.png  \n",
            " extracting: Dataset/Train/Parasite/C39P4thinF_original_IMG_20150622_105102_cell_100.png  \n",
            "  inflating: Dataset/Train/Parasite/C39P4thinF_original_IMG_20150622_105102_cell_101.png  \n",
            " extracting: Dataset/Train/Parasite/C39P4thinF_original_IMG_20150622_105102_cell_102.png  \n",
            " extracting: Dataset/Train/Parasite/C39P4thinF_original_IMG_20150622_105102_cell_103.png  \n",
            " extracting: Dataset/Train/Parasite/C39P4thinF_original_IMG_20150622_105102_cell_104.png  \n",
            " extracting: Dataset/Train/Parasite/C39P4thinF_original_IMG_20150622_105102_cell_105.png  \n",
            " extracting: Dataset/Train/Parasite/C39P4thinF_original_IMG_20150622_105102_cell_106.png  \n",
            " extracting: Dataset/Train/Parasite/C39P4thinF_original_IMG_20150622_105102_cell_107.png  \n",
            " extracting: Dataset/Train/Parasite/C39P4thinF_original_IMG_20150622_105102_cell_79.png  \n",
            " extracting: Dataset/Train/Parasite/C39P4thinF_original_IMG_20150622_105102_cell_80.png  \n",
            " extracting: Dataset/Train/Parasite/C39P4thinF_original_IMG_20150622_105102_cell_81.png  \n",
            " extracting: Dataset/Train/Parasite/C39P4thinF_original_IMG_20150622_105102_cell_82.png  \n",
            " extracting: Dataset/Train/Parasite/C39P4thinF_original_IMG_20150622_105102_cell_83.png  \n",
            " extracting: Dataset/Train/Parasite/C39P4thinF_original_IMG_20150622_105102_cell_84.png  \n",
            " extracting: Dataset/Train/Parasite/C39P4thinF_original_IMG_20150622_105102_cell_85.png  \n",
            " extracting: Dataset/Train/Parasite/C39P4thinF_original_IMG_20150622_105102_cell_86.png  \n",
            " extracting: Dataset/Train/Parasite/C39P4thinF_original_IMG_20150622_105102_cell_87.png  \n",
            " extracting: Dataset/Train/Parasite/C39P4thinF_original_IMG_20150622_105102_cell_88.png  \n",
            " extracting: Dataset/Train/Parasite/C39P4thinF_original_IMG_20150622_105102_cell_89.png  \n",
            " extracting: Dataset/Train/Parasite/C39P4thinF_original_IMG_20150622_105102_cell_90.png  \n",
            " extracting: Dataset/Train/Parasite/C39P4thinF_original_IMG_20150622_105102_cell_91.png  \n",
            " extracting: Dataset/Train/Parasite/C39P4thinF_original_IMG_20150622_105102_cell_92.png  \n",
            " extracting: Dataset/Train/Parasite/C39P4thinF_original_IMG_20150622_105102_cell_93.png  \n",
            " extracting: Dataset/Train/Parasite/C39P4thinF_original_IMG_20150622_105102_cell_94.png  \n",
            " extracting: Dataset/Train/Parasite/C39P4thinF_original_IMG_20150622_105102_cell_95.png  \n",
            " extracting: Dataset/Train/Parasite/C39P4thinF_original_IMG_20150622_105102_cell_96.png  \n",
            " extracting: Dataset/Train/Parasite/C39P4thinF_original_IMG_20150622_105102_cell_97.png  \n",
            " extracting: Dataset/Train/Parasite/C39P4thinF_original_IMG_20150622_105102_cell_98.png  \n",
            " extracting: Dataset/Train/Parasite/C39P4thinF_original_IMG_20150622_105102_cell_99.png  \n",
            " extracting: Dataset/Train/Parasite/C39P4thinF_original_IMG_20150622_105253_cell_100.png  \n",
            " extracting: Dataset/Train/Parasite/C39P4thinF_original_IMG_20150622_105253_cell_101.png  \n",
            " extracting: Dataset/Train/Parasite/C39P4thinF_original_IMG_20150622_105253_cell_102.png  \n",
            " extracting: Dataset/Train/Parasite/C39P4thinF_original_IMG_20150622_105253_cell_103.png  \n",
            " extracting: Dataset/Train/Parasite/C39P4thinF_original_IMG_20150622_105253_cell_104.png  \n",
            " extracting: Dataset/Train/Parasite/C39P4thinF_original_IMG_20150622_105253_cell_105.png  \n",
            " extracting: Dataset/Train/Parasite/C39P4thinF_original_IMG_20150622_105253_cell_106.png  \n",
            " extracting: Dataset/Train/Parasite/C39P4thinF_original_IMG_20150622_105253_cell_107.png  \n",
            " extracting: Dataset/Train/Parasite/C39P4thinF_original_IMG_20150622_105253_cell_108.png  \n",
            " extracting: Dataset/Train/Parasite/C39P4thinF_original_IMG_20150622_105253_cell_109.png  \n",
            " extracting: Dataset/Train/Parasite/C39P4thinF_original_IMG_20150622_105253_cell_110.png  \n",
            " extracting: Dataset/Train/Parasite/C39P4thinF_original_IMG_20150622_105253_cell_111.png  \n",
            "  inflating: Dataset/Train/Parasite/C39P4thinF_original_IMG_20150622_105253_cell_90.png  \n",
            " extracting: Dataset/Train/Parasite/C39P4thinF_original_IMG_20150622_105253_cell_91.png  \n",
            " extracting: Dataset/Train/Parasite/C39P4thinF_original_IMG_20150622_105253_cell_92.png  \n",
            " extracting: Dataset/Train/Parasite/C39P4thinF_original_IMG_20150622_105253_cell_93.png  \n",
            " extracting: Dataset/Train/Parasite/C39P4thinF_original_IMG_20150622_105253_cell_94.png  \n",
            " extracting: Dataset/Train/Parasite/C39P4thinF_original_IMG_20150622_105253_cell_95.png  \n",
            " extracting: Dataset/Train/Parasite/C39P4thinF_original_IMG_20150622_105253_cell_96.png  \n",
            " extracting: Dataset/Train/Parasite/C39P4thinF_original_IMG_20150622_105253_cell_97.png  \n",
            " extracting: Dataset/Train/Parasite/C39P4thinF_original_IMG_20150622_105253_cell_98.png  \n",
            " extracting: Dataset/Train/Parasite/C39P4thinF_original_IMG_20150622_105253_cell_99.png  \n",
            " extracting: Dataset/Train/Parasite/C39P4thinF_original_IMG_20150622_105335_cell_1.png  \n",
            " extracting: Dataset/Train/Parasite/C39P4thinF_original_IMG_20150622_105335_cell_10.png  \n",
            " extracting: Dataset/Train/Parasite/C39P4thinF_original_IMG_20150622_105335_cell_11.png  \n",
            " extracting: Dataset/Train/Parasite/C39P4thinF_original_IMG_20150622_105335_cell_12.png  \n",
            " extracting: Dataset/Train/Parasite/C39P4thinF_original_IMG_20150622_105335_cell_13.png  \n",
            " extracting: Dataset/Train/Parasite/C39P4thinF_original_IMG_20150622_105335_cell_14.png  \n",
            " extracting: Dataset/Train/Parasite/C39P4thinF_original_IMG_20150622_105335_cell_15.png  \n",
            " extracting: Dataset/Train/Parasite/C39P4thinF_original_IMG_20150622_105335_cell_16.png  \n",
            " extracting: Dataset/Train/Parasite/C39P4thinF_original_IMG_20150622_105335_cell_17.png  \n",
            " extracting: Dataset/Train/Parasite/C39P4thinF_original_IMG_20150622_105335_cell_18.png  \n",
            " extracting: Dataset/Train/Parasite/C39P4thinF_original_IMG_20150622_105335_cell_19.png  \n",
            " extracting: Dataset/Train/Parasite/C39P4thinF_original_IMG_20150622_105335_cell_2.png  \n",
            " extracting: Dataset/Train/Parasite/C39P4thinF_original_IMG_20150622_105335_cell_20.png  \n",
            " extracting: Dataset/Train/Parasite/C39P4thinF_original_IMG_20150622_105335_cell_21.png  \n",
            " extracting: Dataset/Train/Parasite/C39P4thinF_original_IMG_20150622_105335_cell_22.png  \n",
            " extracting: Dataset/Train/Parasite/C39P4thinF_original_IMG_20150622_105335_cell_23.png  \n",
            " extracting: Dataset/Train/Parasite/C39P4thinF_original_IMG_20150622_105335_cell_24.png  \n",
            " extracting: Dataset/Train/Parasite/C39P4thinF_original_IMG_20150622_105335_cell_25.png  \n",
            "  inflating: Dataset/Train/Parasite/C39P4thinF_original_IMG_20150622_105335_cell_26.png  \n",
            " extracting: Dataset/Train/Parasite/C39P4thinF_original_IMG_20150622_105335_cell_27.png  \n",
            " extracting: Dataset/Train/Parasite/C39P4thinF_original_IMG_20150622_105335_cell_28.png  \n",
            "  inflating: Dataset/Train/Parasite/C39P4thinF_original_IMG_20150622_105335_cell_29.png  \n",
            " extracting: Dataset/Train/Parasite/C39P4thinF_original_IMG_20150622_105335_cell_3.png  \n",
            " extracting: Dataset/Train/Parasite/C39P4thinF_original_IMG_20150622_105335_cell_30.png  \n",
            " extracting: Dataset/Train/Parasite/C39P4thinF_original_IMG_20150622_105335_cell_31.png  \n",
            " extracting: Dataset/Train/Parasite/C39P4thinF_original_IMG_20150622_105335_cell_32.png  \n",
            " extracting: Dataset/Train/Parasite/C39P4thinF_original_IMG_20150622_105335_cell_4.png  \n",
            " extracting: Dataset/Train/Parasite/C39P4thinF_original_IMG_20150622_105335_cell_5.png  \n",
            " extracting: Dataset/Train/Parasite/C39P4thinF_original_IMG_20150622_105335_cell_6.png  \n",
            " extracting: Dataset/Train/Parasite/C39P4thinF_original_IMG_20150622_105335_cell_7.png  \n",
            " extracting: Dataset/Train/Parasite/C39P4thinF_original_IMG_20150622_105335_cell_8.png  \n",
            " extracting: Dataset/Train/Parasite/C39P4thinF_original_IMG_20150622_105335_cell_9.png  \n",
            " extracting: Dataset/Train/Parasite/C39P4thinF_original_IMG_20150622_105554_cell_1.png  \n",
            " extracting: Dataset/Train/Parasite/C39P4thinF_original_IMG_20150622_105554_cell_2.png  \n",
            " extracting: Dataset/Train/Parasite/C39P4thinF_original_IMG_20150622_105554_cell_3.png  \n",
            " extracting: Dataset/Train/Parasite/C39P4thinF_original_IMG_20150622_105554_cell_4.png  \n",
            "   creating: Dataset/Train/Uninfected/\n",
            " extracting: Dataset/Train/Uninfected/C1_thinF_IMG_20150604_104722_cell_115.png  \n",
            " extracting: Dataset/Train/Uninfected/C1_thinF_IMG_20150604_104722_cell_123.png  \n",
            " extracting: Dataset/Train/Uninfected/C1_thinF_IMG_20150604_104722_cell_143.png  \n",
            " extracting: Dataset/Train/Uninfected/C1_thinF_IMG_20150604_104722_cell_15.png  \n",
            " extracting: Dataset/Train/Uninfected/C1_thinF_IMG_20150604_104722_cell_164.png  \n",
            " extracting: Dataset/Train/Uninfected/C1_thinF_IMG_20150604_104722_cell_191.png  \n",
            " extracting: Dataset/Train/Uninfected/C1_thinF_IMG_20150604_104722_cell_211.png  \n",
            " extracting: Dataset/Train/Uninfected/C1_thinF_IMG_20150604_104722_cell_216.png  \n",
            " extracting: Dataset/Train/Uninfected/C1_thinF_IMG_20150604_104722_cell_231.png  \n",
            " extracting: Dataset/Train/Uninfected/C1_thinF_IMG_20150604_104722_cell_242.png  \n",
            " extracting: Dataset/Train/Uninfected/C1_thinF_IMG_20150604_104722_cell_248.png  \n",
            " extracting: Dataset/Train/Uninfected/C1_thinF_IMG_20150604_104722_cell_60.png  \n",
            " extracting: Dataset/Train/Uninfected/C1_thinF_IMG_20150604_104722_cell_66.png  \n",
            " extracting: Dataset/Train/Uninfected/C1_thinF_IMG_20150604_104722_cell_73.png  \n",
            " extracting: Dataset/Train/Uninfected/C1_thinF_IMG_20150604_104722_cell_79.png  \n",
            " extracting: Dataset/Train/Uninfected/C1_thinF_IMG_20150604_104722_cell_81.png  \n",
            " extracting: Dataset/Train/Uninfected/C1_thinF_IMG_20150604_104722_cell_9.png  \n",
            " extracting: Dataset/Train/Uninfected/C1_thinF_IMG_20150604_104919_cell_123.png  \n",
            " extracting: Dataset/Train/Uninfected/C1_thinF_IMG_20150604_104919_cell_132.png  \n",
            " extracting: Dataset/Train/Uninfected/C1_thinF_IMG_20150604_104919_cell_134.png  \n",
            " extracting: Dataset/Train/Uninfected/C1_thinF_IMG_20150604_104919_cell_157.png  \n",
            " extracting: Dataset/Train/Uninfected/C1_thinF_IMG_20150604_104919_cell_163.png  \n",
            " extracting: Dataset/Train/Uninfected/C1_thinF_IMG_20150604_104919_cell_164.png  \n",
            " extracting: Dataset/Train/Uninfected/C1_thinF_IMG_20150604_104919_cell_173.png  \n",
            " extracting: Dataset/Train/Uninfected/C1_thinF_IMG_20150604_104919_cell_178.png  \n",
            " extracting: Dataset/Train/Uninfected/C1_thinF_IMG_20150604_104919_cell_183.png  \n",
            " extracting: Dataset/Train/Uninfected/C1_thinF_IMG_20150604_104919_cell_189.png  \n",
            " extracting: Dataset/Train/Uninfected/C1_thinF_IMG_20150604_104919_cell_199.png  \n",
            " extracting: Dataset/Train/Uninfected/C1_thinF_IMG_20150604_104919_cell_224.png  \n",
            " extracting: Dataset/Train/Uninfected/C1_thinF_IMG_20150604_104919_cell_240.png  \n",
            " extracting: Dataset/Train/Uninfected/C1_thinF_IMG_20150604_104919_cell_31.png  \n",
            " extracting: Dataset/Train/Uninfected/C1_thinF_IMG_20150604_104919_cell_82.png  \n",
            " extracting: Dataset/Train/Uninfected/C1_thinF_IMG_20150604_104919_cell_84.png  \n",
            " extracting: Dataset/Train/Uninfected/C1_thinF_IMG_20150604_104919_cell_86.png  \n",
            " extracting: Dataset/Train/Uninfected/C1_thinF_IMG_20150604_104919_cell_96.png  \n",
            " extracting: Dataset/Train/Uninfected/C1_thinF_IMG_20150604_104942_cell_102.png  \n",
            " extracting: Dataset/Train/Uninfected/C1_thinF_IMG_20150604_104942_cell_11.png  \n",
            " extracting: Dataset/Train/Uninfected/C1_thinF_IMG_20150604_104942_cell_139.png  \n",
            " extracting: Dataset/Train/Uninfected/C1_thinF_IMG_20150604_104942_cell_151.png  \n",
            " extracting: Dataset/Train/Uninfected/C1_thinF_IMG_20150604_104942_cell_152.png  \n",
            " extracting: Dataset/Train/Uninfected/C1_thinF_IMG_20150604_104942_cell_154.png  \n",
            " extracting: Dataset/Train/Uninfected/C1_thinF_IMG_20150604_104942_cell_156.png  \n",
            " extracting: Dataset/Train/Uninfected/C1_thinF_IMG_20150604_104942_cell_168.png  \n",
            " extracting: Dataset/Train/Uninfected/C1_thinF_IMG_20150604_104942_cell_185.png  \n",
            " extracting: Dataset/Train/Uninfected/C1_thinF_IMG_20150604_104942_cell_20.png  \n",
            " extracting: Dataset/Train/Uninfected/C1_thinF_IMG_20150604_104942_cell_203.png  \n",
            " extracting: Dataset/Train/Uninfected/C1_thinF_IMG_20150604_104942_cell_209.png  \n",
            " extracting: Dataset/Train/Uninfected/C1_thinF_IMG_20150604_104942_cell_218.png  \n",
            " extracting: Dataset/Train/Uninfected/C1_thinF_IMG_20150604_104942_cell_269.png  \n",
            " extracting: Dataset/Train/Uninfected/C1_thinF_IMG_20150604_104942_cell_4.png  \n",
            " extracting: Dataset/Train/Uninfected/C1_thinF_IMG_20150604_104942_cell_59.png  \n",
            " extracting: Dataset/Train/Uninfected/C1_thinF_IMG_20150604_104942_cell_72.png  \n",
            " extracting: Dataset/Train/Uninfected/C1_thinF_IMG_20150604_104942_cell_98.png  \n",
            " extracting: Dataset/Train/Uninfected/C1_thinF_IMG_20150604_105100_cell_130.png  \n",
            " extracting: Dataset/Train/Uninfected/C1_thinF_IMG_20150604_105100_cell_134.png  \n",
            " extracting: Dataset/Train/Uninfected/C1_thinF_IMG_20150604_105100_cell_151.png  \n",
            " extracting: Dataset/Train/Uninfected/C1_thinF_IMG_20150604_105100_cell_152.png  \n",
            " extracting: Dataset/Train/Uninfected/C1_thinF_IMG_20150604_105100_cell_157.png  \n",
            " extracting: Dataset/Train/Uninfected/C1_thinF_IMG_20150604_105100_cell_180.png  \n",
            " extracting: Dataset/Train/Uninfected/C1_thinF_IMG_20150604_105100_cell_186.png  \n",
            " extracting: Dataset/Train/Uninfected/C1_thinF_IMG_20150604_105100_cell_201.png  \n",
            "  inflating: Dataset/Train/Uninfected/C1_thinF_IMG_20150604_105100_cell_211.png  \n",
            " extracting: Dataset/Train/Uninfected/C1_thinF_IMG_20150604_105100_cell_213.png  \n",
            " extracting: Dataset/Train/Uninfected/C1_thinF_IMG_20150604_105100_cell_232.png  \n",
            " extracting: Dataset/Train/Uninfected/C1_thinF_IMG_20150604_105100_cell_243.png  \n",
            " extracting: Dataset/Train/Uninfected/C1_thinF_IMG_20150604_105100_cell_275.png  \n",
            " extracting: Dataset/Train/Uninfected/C1_thinF_IMG_20150604_105100_cell_277.png  \n",
            " extracting: Dataset/Train/Uninfected/C1_thinF_IMG_20150604_105100_cell_43.png  \n",
            " extracting: Dataset/Train/Uninfected/C1_thinF_IMG_20150604_105100_cell_53.png  \n",
            " extracting: Dataset/Train/Uninfected/C1_thinF_IMG_20150604_105100_cell_69.png  \n",
            " extracting: Dataset/Train/Uninfected/C241NThinF_IMG_20151207_124240_cell_169.png  \n",
            " extracting: Dataset/Train/Uninfected/C241NThinF_IMG_20151207_124358_cell_119.png  \n",
            "  inflating: Dataset/Train/Uninfected/C241NThinF_IMG_20151207_124358_cell_130.png  \n",
            "  inflating: Dataset/Train/Uninfected/C241NThinF_IMG_20151207_124358_cell_137.png  \n",
            "  inflating: Dataset/Train/Uninfected/C241NThinF_IMG_20151207_124358_cell_144.png  \n",
            " extracting: Dataset/Train/Uninfected/C241NThinF_IMG_20151207_124358_cell_149.png  \n",
            " extracting: Dataset/Train/Uninfected/C241NThinF_IMG_20151207_124358_cell_35.png  \n",
            " extracting: Dataset/Train/Uninfected/C241NThinF_IMG_20151207_124358_cell_73.png  \n",
            " extracting: Dataset/Train/Uninfected/C241NThinF_IMG_20151207_124358_cell_82.png  \n",
            " extracting: Dataset/Train/Uninfected/C241NThinF_IMG_20151207_124358_cell_84.png  \n",
            " extracting: Dataset/Train/Uninfected/C241NThinF_IMG_20151207_124358_cell_91.png  \n",
            " extracting: Dataset/Train/Uninfected/C241NThinF_IMG_20151207_124608_cell_104.png  \n",
            " extracting: Dataset/Train/Uninfected/C241NThinF_IMG_20151207_124608_cell_120.png  \n",
            " extracting: Dataset/Train/Uninfected/C241NThinF_IMG_20151207_124608_cell_125.png  \n",
            " extracting: Dataset/Train/Uninfected/C241NThinF_IMG_20151207_124608_cell_171.png  \n",
            " extracting: Dataset/Train/Uninfected/C241NThinF_IMG_20151207_124608_cell_22.png  \n",
            "  inflating: Dataset/Train/Uninfected/C241NThinF_IMG_20151207_124608_cell_30.png  \n",
            " extracting: Dataset/Train/Uninfected/C241NThinF_IMG_20151207_124608_cell_40.png  \n",
            " extracting: Dataset/Train/Uninfected/C241NThinF_IMG_20151207_124608_cell_51.png  \n",
            " extracting: Dataset/Train/Uninfected/C241NThinF_IMG_20151207_124608_cell_61.png  \n",
            "  inflating: Dataset/Train/Uninfected/C241NThinF_IMG_20151207_124608_cell_90.png  \n",
            " extracting: Dataset/Train/Uninfected/C241NThinF_IMG_20151207_124643_cell_125.png  \n",
            " extracting: Dataset/Train/Uninfected/C241NThinF_IMG_20151207_124643_cell_136.png  \n",
            " extracting: Dataset/Train/Uninfected/C241NThinF_IMG_20151207_124643_cell_158.png  \n",
            " extracting: Dataset/Train/Uninfected/C241NThinF_IMG_20151207_124643_cell_169.png  \n",
            " extracting: Dataset/Train/Uninfected/C241NThinF_IMG_20151207_124643_cell_25.png  \n",
            " extracting: Dataset/Train/Uninfected/C241NThinF_IMG_20151207_124643_cell_26.png  \n",
            " extracting: Dataset/Train/Uninfected/C241NThinF_IMG_20151207_124643_cell_45.png  \n",
            "  inflating: Dataset/Train/Uninfected/C241NThinF_IMG_20151207_124643_cell_46.png  \n",
            " extracting: Dataset/Train/Uninfected/C241NThinF_IMG_20151207_124643_cell_91.png  \n",
            " extracting: Dataset/Train/Uninfected/C241NThinF_IMG_20151207_124643_cell_96.png  \n",
            " extracting: Dataset/Train/Uninfected/C2NThinF_IMG_20150604_114631_cell_141.png  \n",
            " extracting: Dataset/Train/Uninfected/C2NThinF_IMG_20150604_114631_cell_144.png  \n",
            " extracting: Dataset/Train/Uninfected/C2NThinF_IMG_20150604_114631_cell_150.png  \n",
            " extracting: Dataset/Train/Uninfected/C2NThinF_IMG_20150604_114631_cell_155.png  \n",
            " extracting: Dataset/Train/Uninfected/C2NThinF_IMG_20150604_114631_cell_187.png  \n",
            " extracting: Dataset/Train/Uninfected/C2NThinF_IMG_20150604_114631_cell_204.png  \n",
            " extracting: Dataset/Train/Uninfected/C2NThinF_IMG_20150604_114631_cell_214.png  \n",
            " extracting: Dataset/Train/Uninfected/C2NThinF_IMG_20150604_114631_cell_215.png  \n",
            " extracting: Dataset/Train/Uninfected/C2NThinF_IMG_20150604_114631_cell_38.png  \n",
            " extracting: Dataset/Train/Uninfected/C2NThinF_IMG_20150604_114631_cell_52.png  \n",
            " extracting: Dataset/Train/Uninfected/C2NThinF_IMG_20150604_114631_cell_72.png  \n",
            " extracting: Dataset/Train/Uninfected/C2NThinF_IMG_20150604_114631_cell_74.png  \n",
            " extracting: Dataset/Train/Uninfected/C2NThinF_IMG_20150604_114631_cell_84.png  \n",
            " extracting: Dataset/Train/Uninfected/C2NThinF_IMG_20150604_114631_cell_99.png  \n",
            " extracting: Dataset/Train/Uninfected/C2NThinF_IMG_20150604_114730_cell_113.png  \n",
            " extracting: Dataset/Train/Uninfected/C2NThinF_IMG_20150604_114730_cell_12.png  \n",
            " extracting: Dataset/Train/Uninfected/C2NThinF_IMG_20150604_114730_cell_124.png  \n",
            " extracting: Dataset/Train/Uninfected/C2NThinF_IMG_20150604_114730_cell_13.png  \n",
            " extracting: Dataset/Train/Uninfected/C2NThinF_IMG_20150604_114730_cell_139.png  \n",
            " extracting: Dataset/Train/Uninfected/C2NThinF_IMG_20150604_114730_cell_161.png  \n",
            " extracting: Dataset/Train/Uninfected/C2NThinF_IMG_20150604_114730_cell_172.png  \n",
            " extracting: Dataset/Train/Uninfected/C2NThinF_IMG_20150604_114730_cell_173.png  \n",
            " extracting: Dataset/Train/Uninfected/C2NThinF_IMG_20150604_114730_cell_178.png  \n",
            " extracting: Dataset/Train/Uninfected/C2NThinF_IMG_20150604_114730_cell_183.png  \n",
            " extracting: Dataset/Train/Uninfected/C2NThinF_IMG_20150604_114730_cell_36.png  \n",
            " extracting: Dataset/Train/Uninfected/C2NThinF_IMG_20150604_114730_cell_72.png  \n",
            " extracting: Dataset/Train/Uninfected/C2NThinF_IMG_20150604_114730_cell_98.png  \n",
            " extracting: Dataset/Train/Uninfected/C2NThinF_IMG_20150604_114751_cell_101.png  \n",
            " extracting: Dataset/Train/Uninfected/C2NThinF_IMG_20150604_114751_cell_106.png  \n",
            " extracting: Dataset/Train/Uninfected/C2NThinF_IMG_20150604_114751_cell_107.png  \n",
            " extracting: Dataset/Train/Uninfected/C2NThinF_IMG_20150604_114751_cell_113.png  \n",
            " extracting: Dataset/Train/Uninfected/C2NThinF_IMG_20150604_114751_cell_127.png  \n",
            " extracting: Dataset/Train/Uninfected/C2NThinF_IMG_20150604_114751_cell_142.png  \n",
            " extracting: Dataset/Train/Uninfected/C2NThinF_IMG_20150604_114751_cell_181.png  \n",
            " extracting: Dataset/Train/Uninfected/C2NThinF_IMG_20150604_114751_cell_197.png  \n",
            " extracting: Dataset/Train/Uninfected/C2NThinF_IMG_20150604_114751_cell_217.png  \n",
            " extracting: Dataset/Train/Uninfected/C2NThinF_IMG_20150604_114751_cell_221.png  \n",
            " extracting: Dataset/Train/Uninfected/C2NThinF_IMG_20150604_114751_cell_38.png  \n",
            " extracting: Dataset/Train/Uninfected/C2NThinF_IMG_20150604_114751_cell_69.png  \n",
            " extracting: Dataset/Train/Uninfected/C2NThinF_IMG_20150604_114751_cell_92.png  \n",
            " extracting: Dataset/Train/Uninfected/C2NThinF_IMG_20150604_114751_cell_93.png  \n",
            " extracting: Dataset/Train/Uninfected/C2NThinF_IMG_20150604_114815_cell_107.png  \n",
            " extracting: Dataset/Train/Uninfected/C2NThinF_IMG_20150604_114815_cell_128.png  \n",
            " extracting: Dataset/Train/Uninfected/C2NThinF_IMG_20150604_114815_cell_142.png  \n",
            " extracting: Dataset/Train/Uninfected/C2NThinF_IMG_20150604_114815_cell_217.png  \n",
            " extracting: Dataset/Train/Uninfected/C2NThinF_IMG_20150604_114815_cell_232.png  \n",
            " extracting: Dataset/Train/Uninfected/C2NThinF_IMG_20150604_114815_cell_233.png  \n",
            " extracting: Dataset/Train/Uninfected/C2NThinF_IMG_20150604_114815_cell_235.png  \n",
            " extracting: Dataset/Train/Uninfected/C2NThinF_IMG_20150604_114815_cell_242.png  \n",
            " extracting: Dataset/Train/Uninfected/C2NThinF_IMG_20150604_114815_cell_6.png  \n",
            " extracting: Dataset/Train/Uninfected/C2NThinF_IMG_20150604_114815_cell_62.png  \n",
            " extracting: Dataset/Train/Uninfected/C2NThinF_IMG_20150604_114815_cell_66.png  \n",
            " extracting: Dataset/Train/Uninfected/C2NThinF_IMG_20150604_114815_cell_73.png  \n",
            " extracting: Dataset/Train/Uninfected/C2NThinF_IMG_20150604_114815_cell_9.png  \n",
            " extracting: Dataset/Train/Uninfected/C2NThinF_IMG_20150604_114815_cell_95.png  \n",
            " extracting: Dataset/Train/Uninfected/C2NThinF_IMG_20150604_115238_cell_115.png  \n",
            " extracting: Dataset/Train/Uninfected/C2NThinF_IMG_20150604_115238_cell_117.png  \n",
            " extracting: Dataset/Train/Uninfected/C2NThinF_IMG_20150604_115238_cell_126.png  \n",
            " extracting: Dataset/Train/Uninfected/C2NThinF_IMG_20150604_115238_cell_13.png  \n",
            " extracting: Dataset/Train/Uninfected/C2NThinF_IMG_20150604_115238_cell_133.png  \n",
            " extracting: Dataset/Train/Uninfected/C2NThinF_IMG_20150604_115238_cell_138.png  \n",
            " extracting: Dataset/Train/Uninfected/C2NThinF_IMG_20150604_115238_cell_196.png  \n",
            " extracting: Dataset/Train/Uninfected/C3thin_original_IMG_20150608_163002_cell_159.png  \n",
            " extracting: Dataset/Train/Uninfected/C3thin_original_IMG_20150608_163002_cell_195.png  \n",
            " extracting: Dataset/Train/Uninfected/C3thin_original_IMG_20150608_163029_cell_1.png  \n",
            " extracting: Dataset/Train/Uninfected/C3thin_original_IMG_20150608_163029_cell_109.png  \n",
            " extracting: Dataset/Train/Uninfected/C3thin_original_IMG_20150608_163029_cell_121.png  \n",
            " extracting: Dataset/Train/Uninfected/C3thin_original_IMG_20150608_163029_cell_125.png  \n",
            " extracting: Dataset/Train/Uninfected/C3thin_original_IMG_20150608_163029_cell_156.png  \n",
            " extracting: Dataset/Train/Uninfected/C3thin_original_IMG_20150608_163029_cell_166.png  \n",
            " extracting: Dataset/Train/Uninfected/C3thin_original_IMG_20150608_163029_cell_186.png  \n",
            " extracting: Dataset/Train/Uninfected/C3thin_original_IMG_20150608_163029_cell_202.png  \n",
            " extracting: Dataset/Train/Uninfected/C3thin_original_IMG_20150608_163029_cell_220.png  \n",
            " extracting: Dataset/Train/Uninfected/C3thin_original_IMG_20150608_163029_cell_44.png  \n",
            " extracting: Dataset/Train/Uninfected/C3thin_original_IMG_20150608_163029_cell_52.png  \n",
            " extracting: Dataset/Train/Uninfected/C3thin_original_IMG_20150608_163029_cell_57.png  \n",
            " extracting: Dataset/Train/Uninfected/C3thin_original_IMG_20150608_163029_cell_80.png  \n",
            " extracting: Dataset/Train/Uninfected/C3thin_original_IMG_20150608_163029_cell_83.png  \n",
            " extracting: Dataset/Train/Uninfected/C3thin_original_IMG_20150608_163047_cell_103.png  \n",
            " extracting: Dataset/Train/Uninfected/C3thin_original_IMG_20150608_163047_cell_145.png  \n",
            " extracting: Dataset/Train/Uninfected/C3thin_original_IMG_20150608_163047_cell_147.png  \n",
            " extracting: Dataset/Train/Uninfected/C3thin_original_IMG_20150608_163047_cell_161.png  \n",
            " extracting: Dataset/Train/Uninfected/C3thin_original_IMG_20150608_163047_cell_168.png  \n",
            " extracting: Dataset/Train/Uninfected/C3thin_original_IMG_20150608_163047_cell_183.png  \n",
            " extracting: Dataset/Train/Uninfected/C3thin_original_IMG_20150608_163047_cell_192.png  \n",
            " extracting: Dataset/Train/Uninfected/C3thin_original_IMG_20150608_163047_cell_212.png  \n",
            " extracting: Dataset/Train/Uninfected/C3thin_original_IMG_20150608_163047_cell_214.png  \n",
            " extracting: Dataset/Train/Uninfected/C3thin_original_IMG_20150608_163047_cell_215.png  \n",
            " extracting: Dataset/Train/Uninfected/C3thin_original_IMG_20150608_163047_cell_22.png  \n",
            " extracting: Dataset/Train/Uninfected/C3thin_original_IMG_20150608_163047_cell_236.png  \n",
            " extracting: Dataset/Train/Uninfected/C3thin_original_IMG_20150608_163047_cell_26.png  \n",
            " extracting: Dataset/Train/Uninfected/C3thin_original_IMG_20150608_163047_cell_36.png  \n",
            " extracting: Dataset/Train/Uninfected/C4thin_original_IMG_20150608_165540_cell_19.png  \n",
            " extracting: Dataset/Train/Uninfected/C4thin_original_IMG_20150608_165540_cell_50.png  \n",
            " extracting: Dataset/Train/Uninfected/C4thin_original_IMG_20150608_165540_cell_52.png  \n"
          ],
          "name": "stdout"
        }
      ]
    },
    {
      "cell_type": "code",
      "metadata": {
        "id": "UYBCXO5_UCWB"
      },
      "source": [
        "import numpy as np\n",
        "from tensorflow.keras.layers import Input,Lambda,Dense,Flatten,Conv2D\n",
        "from tensorflow.keras.models import Model\n",
        "from tensorflow.keras.applications.vgg19 import VGG19\n",
        "from tensorflow.keras.applications.resnet50 import preprocess_input\n",
        "from tensorflow.keras.preprocessing import image\n",
        "from tensorflow.keras.preprocessing.image import ImageDataGenerator,load_img\n",
        "from tensorflow.keras.models import Sequential\n",
        "from glob import glob\n",
        "import matplotlib.pyplot as plt\n",
        "import seaborn as sns\n",
        "import warnings\n",
        "warnings.filterwarnings(\"ignore\")\n"
      ],
      "execution_count": null,
      "outputs": []
    },
    {
      "cell_type": "code",
      "metadata": {
        "colab": {
          "base_uri": "https://localhost:8080/",
          "height": 132
        },
        "id": "zjcAMr7JcLSv",
        "outputId": "3d98ac59-6ef3-46f7-b259-3c292cc7d10a"
      },
      "source": [
        "#let_See_some_data\n",
        "#Parasite_blood_cells(image show that person is infacted with Maleria)\n",
        "from IPython.display import Image\n",
        "Image('/content/Dataset/Test/Parasite/C39P4thinF_original_IMG_20150622_105554_cell_10.png')"
      ],
      "execution_count": null,
      "outputs": [
        {
          "output_type": "execute_result",
          "data": {
            "image/png": "[encoded data removed]",
            "text/plain": [
              "<IPython.core.display.Image object>"
            ]
          },
          "metadata": {},
          "execution_count": 3
        }
      ]
    },
    {
      "cell_type": "code",
      "metadata": {
        "colab": {
          "base_uri": "https://localhost:8080/",
          "height": 147
        },
        "id": "ga0C4SRvj3k1",
        "outputId": "2d87ec50-c85a-48fe-af61-c42d91d1ea1a"
      },
      "source": [
        "#Image of Unaffected Person (blood_cells)[Person is not infected with maleria]\n",
        "Image(\"/content/Dataset/Test/Uninfected/C3thin_original_IMG_20150608_162922_cell_145.png\")"
      ],
      "execution_count": null,
      "outputs": [
        {
          "output_type": "execute_result",
          "data": {
            "image/png": "[encoded data removed]",
            "text/plain": [
              "<IPython.core.display.Image object>"
            ]
          },
          "metadata": {},
          "execution_count": 4
        }
      ]
    },
    {
      "cell_type": "code",
      "metadata": {
        "colab": {
          "base_uri": "https://localhost:8080/"
        },
        "id": "q_9kkLNSkxOw",
        "outputId": "8dc7560b-f80f-4823-f424-ed1d163a52d3"
      },
      "source": [
        "#checking_the_image_size\n",
        "import PIL\n",
        "image = PIL.Image.open(\"/content/Dataset/Test/Uninfected/C3thin_original_IMG_20150608_162922_cell_211.png\")\n",
        "width, height = image.size\n",
        "print(width, height)"
      ],
      "execution_count": null,
      "outputs": [
        {
          "output_type": "stream",
          "text": [
            "115 115\n"
          ],
          "name": "stdout"
        }
      ]
    },
    {
      "cell_type": "code",
      "metadata": {
        "id": "t_AYpQaZaKwQ"
      },
      "source": [
        "#resize_image\n",
        "IMAGE_SIZE =[224,224]\n",
        "#path_of_training_testing_data\n",
        "train_path =\"/content/Dataset/Train\"\n",
        "test_path =\"/content/Dataset/Test\""
      ],
      "execution_count": null,
      "outputs": []
    },
    {
      "cell_type": "code",
      "metadata": {
        "colab": {
          "base_uri": "https://localhost:8080/"
        },
        "id": "mQpw5FDpgKqS",
        "outputId": "cae88884-0e5d-4f7d-a462-f9041fe5fb48"
      },
      "source": [
        "#importing the VGG19 and also removing top_layers and we will use pre-trained weight(imagnet weight)\n",
        "mobilenet =VGG19(include_top=False,input_shape=IMAGE_SIZE +[3],weights='imagenet')"
      ],
      "execution_count": null,
      "outputs": [
        {
          "output_type": "stream",
          "text": [
            "Downloading data from https://storage.googleapis.com/tensorflow/keras-applications/vgg19/vgg19_weights_tf_dim_ordering_tf_kernels_notop.h5\n",
            "80142336/80134624 [==============================] - 1s 0us/step\n",
            "80150528/80134624 [==============================] - 1s 0us/step\n"
          ],
          "name": "stdout"
        }
      ]
    },
    {
      "cell_type": "code",
      "metadata": {
        "id": "jHEj_htlnBsl"
      },
      "source": [
        "#need_not to train the weight a we are using pre trained weight\n",
        "for layer in mobilenet.layers:\n",
        "  layer.trainable =False"
      ],
      "execution_count": null,
      "outputs": []
    },
    {
      "cell_type": "code",
      "metadata": {
        "colab": {
          "base_uri": "https://localhost:8080/"
        },
        "id": "uPyySELDoJPP",
        "outputId": "0ed3a2c3-2645-4afe-cd99-d8a95456338e"
      },
      "source": [
        "#fetehcing the folder\n",
        "fold =glob(\"/content/Dataset/Train/*\")\n",
        "fold"
      ],
      "execution_count": null,
      "outputs": [
        {
          "output_type": "execute_result",
          "data": {
            "text/plain": [
              "['/content/Dataset/Train/Parasite', '/content/Dataset/Train/Uninfected']"
            ]
          },
          "metadata": {},
          "execution_count": 9
        }
      ]
    },
    {
      "cell_type": "code",
      "metadata": {
        "id": "uqz9ZO37ocX_"
      },
      "source": [
        "#add layers \n",
        "X =Flatten()(mobilenet.output)\n",
        "\n",
        "out_layers =Dense(len(fold),activation='softmax')(X)"
      ],
      "execution_count": null,
      "outputs": []
    },
    {
      "cell_type": "code",
      "metadata": {
        "colab": {
          "base_uri": "https://localhost:8080/"
        },
        "id": "a4TK4W4gpeHP",
        "outputId": "fa98b4c7-aae1-477a-962d-a82c2c4b1304"
      },
      "source": [
        "#creating instance of model\n",
        "model =Model(inputs=mobilenet.input,outputs=out_layers)\n",
        "model.summary()"
      ],
      "execution_count": null,
      "outputs": [
        {
          "output_type": "stream",
          "text": [
            "Model: \"model\"\n",
            "_________________________________________________________________\n",
            "Layer (type)                 Output Shape              Param #   \n",
            "=================================================================\n",
            "input_1 (InputLayer)         [(None, 224, 224, 3)]     0         \n",
            "_________________________________________________________________\n",
            "block1_conv1 (Conv2D)        (None, 224, 224, 64)      1792      \n",
            "_________________________________________________________________\n",
            "block1_conv2 (Conv2D)        (None, 224, 224, 64)      36928     \n",
            "_________________________________________________________________\n",
            "block1_pool (MaxPooling2D)   (None, 112, 112, 64)      0         \n",
            "_________________________________________________________________\n",
            "block2_conv1 (Conv2D)        (None, 112, 112, 128)     73856     \n",
            "_________________________________________________________________\n",
            "block2_conv2 (Conv2D)        (None, 112, 112, 128)     147584    \n",
            "_________________________________________________________________\n",
            "block2_pool (MaxPooling2D)   (None, 56, 56, 128)       0         \n",
            "_________________________________________________________________\n",
            "block3_conv1 (Conv2D)        (None, 56, 56, 256)       295168    \n",
            "_________________________________________________________________\n",
            "block3_conv2 (Conv2D)        (None, 56, 56, 256)       590080    \n",
            "_________________________________________________________________\n",
            "block3_conv3 (Conv2D)        (None, 56, 56, 256)       590080    \n",
            "_________________________________________________________________\n",
            "block3_conv4 (Conv2D)        (None, 56, 56, 256)       590080    \n",
            "_________________________________________________________________\n",
            "block3_pool (MaxPooling2D)   (None, 28, 28, 256)       0         \n",
            "_________________________________________________________________\n",
            "block4_conv1 (Conv2D)        (None, 28, 28, 512)       1180160   \n",
            "_________________________________________________________________\n",
            "block4_conv2 (Conv2D)        (None, 28, 28, 512)       2359808   \n",
            "_________________________________________________________________\n",
            "block4_conv3 (Conv2D)        (None, 28, 28, 512)       2359808   \n",
            "_________________________________________________________________\n",
            "block4_conv4 (Conv2D)        (None, 28, 28, 512)       2359808   \n",
            "_________________________________________________________________\n",
            "block4_pool (MaxPooling2D)   (None, 14, 14, 512)       0         \n",
            "_________________________________________________________________\n",
            "block5_conv1 (Conv2D)        (None, 14, 14, 512)       2359808   \n",
            "_________________________________________________________________\n",
            "block5_conv2 (Conv2D)        (None, 14, 14, 512)       2359808   \n",
            "_________________________________________________________________\n",
            "block5_conv3 (Conv2D)        (None, 14, 14, 512)       2359808   \n",
            "_________________________________________________________________\n",
            "block5_conv4 (Conv2D)        (None, 14, 14, 512)       2359808   \n",
            "_________________________________________________________________\n",
            "block5_pool (MaxPooling2D)   (None, 7, 7, 512)         0         \n",
            "_________________________________________________________________\n",
            "flatten (Flatten)            (None, 25088)             0         \n",
            "_________________________________________________________________\n",
            "dense (Dense)                (None, 2)                 50178     \n",
            "=================================================================\n",
            "Total params: 20,074,562\n",
            "Trainable params: 50,178\n",
            "Non-trainable params: 20,024,384\n",
            "_________________________________________________________________\n"
          ],
          "name": "stdout"
        }
      ]
    },
    {
      "cell_type": "code",
      "metadata": {
        "id": "Z6SIdToYq3K5"
      },
      "source": [
        "#compile_model\n",
        "model.compile(\n",
        "    optimizer='adam',\n",
        "     loss='categorical_crossentropy',\n",
        "     metrics=['accuracy']\n",
        ")   "
      ],
      "execution_count": null,
      "outputs": []
    },
    {
      "cell_type": "code",
      "metadata": {
        "id": "Nml5r_SIr2Rf"
      },
      "source": [
        "#using image_generator Generating diff iamges for the data.\n",
        "train_data_generated =ImageDataGenerator(rescale=1./255,\n",
        "                                         shear_range=0.2,\n",
        "                                         zoom_range=0.2,\n",
        "                                         rotation_range=2,\n",
        "                                         horizontal_flip=True)\n",
        "\n",
        "test_data_generated =ImageDataGenerator(rescale=1./255)"
      ],
      "execution_count": null,
      "outputs": []
    },
    {
      "cell_type": "code",
      "metadata": {
        "colab": {
          "base_uri": "https://localhost:8080/"
        },
        "id": "c3wOXd84uV2d",
        "outputId": "c5dcfd9a-4be5-4e26-f403-ce17d9279b07"
      },
      "source": [
        "#generate train_data mergerd with training data\n",
        "training_data =train_data_generated.flow_from_directory('/content/Dataset/Train',\n",
        "                                                        target_size=(224,224),\n",
        "                                                        batch_size=32,\n",
        "                                                        class_mode='categorical')\n"
      ],
      "execution_count": null,
      "outputs": [
        {
          "output_type": "stream",
          "text": [
            "Found 416 images belonging to 2 classes.\n"
          ],
          "name": "stdout"
        }
      ]
    },
    {
      "cell_type": "code",
      "metadata": {
        "colab": {
          "base_uri": "https://localhost:8080/"
        },
        "id": "7HVVKhgEv_bz",
        "outputId": "7883a5d0-ffe8-459d-dd52-89371c4ac098"
      },
      "source": [
        "#generate test_data mergerd with test data\n",
        "testing_data =test_data_generated.flow_from_directory('/content/Dataset/Test',\n",
        "                                                        target_size=(224,224),\n",
        "                                                        batch_size=32,\n",
        "                                                        class_mode='categorical')"
      ],
      "execution_count": null,
      "outputs": [
        {
          "output_type": "stream",
          "text": [
            "Found 134 images belonging to 2 classes.\n"
          ],
          "name": "stdout"
        }
      ]
    },
    {
      "cell_type": "code",
      "metadata": {
        "colab": {
          "base_uri": "https://localhost:8080/"
        },
        "id": "3BzyV6B7w89C",
        "outputId": "138f8b14-82a8-4ef5-ad06-f2406eddc682"
      },
      "source": [
        "final_r =model.fit_generator(\n",
        "    training_data,\n",
        "    validation_data=testing_data,\n",
        "    epochs=30,\n",
        "    steps_per_epoch =len(training_data),\n",
        "    validation_steps=len(testing_data)\n",
        ")"
      ],
      "execution_count": null,
      "outputs": [
        {
          "output_type": "stream",
          "text": [
            "Epoch 1/30\n",
            "13/13 [==============================] - 48s 800ms/step - loss: 1.1803 - accuracy: 0.5769 - val_loss: 0.5927 - val_accuracy: 0.6567\n",
            "Epoch 2/30\n",
            "13/13 [==============================] - 8s 582ms/step - loss: 0.4998 - accuracy: 0.7476 - val_loss: 0.5091 - val_accuracy: 0.7463\n",
            "Epoch 3/30\n",
            "13/13 [==============================] - 8s 582ms/step - loss: 0.4127 - accuracy: 0.8221 - val_loss: 0.5884 - val_accuracy: 0.6791\n",
            "Epoch 4/30\n",
            "13/13 [==============================] - 8s 582ms/step - loss: 0.3899 - accuracy: 0.8077 - val_loss: 0.8119 - val_accuracy: 0.6194\n",
            "Epoch 5/30\n",
            "13/13 [==============================] - 8s 577ms/step - loss: 0.3351 - accuracy: 0.8462 - val_loss: 0.4005 - val_accuracy: 0.8507\n",
            "Epoch 6/30\n",
            "13/13 [==============================] - 8s 574ms/step - loss: 0.2885 - accuracy: 0.8918 - val_loss: 0.4958 - val_accuracy: 0.7537\n",
            "Epoch 7/30\n",
            "13/13 [==============================] - 8s 574ms/step - loss: 0.2706 - accuracy: 0.8870 - val_loss: 0.5188 - val_accuracy: 0.7164\n",
            "Epoch 8/30\n",
            "13/13 [==============================] - 8s 578ms/step - loss: 0.2347 - accuracy: 0.9255 - val_loss: 0.3169 - val_accuracy: 0.8806\n",
            "Epoch 9/30\n",
            "13/13 [==============================] - 8s 576ms/step - loss: 0.2141 - accuracy: 0.9327 - val_loss: 0.3205 - val_accuracy: 0.8881\n",
            "Epoch 10/30\n",
            "13/13 [==============================] - 8s 574ms/step - loss: 0.2342 - accuracy: 0.9135 - val_loss: 0.8040 - val_accuracy: 0.6418\n",
            "Epoch 11/30\n",
            "13/13 [==============================] - 8s 572ms/step - loss: 0.2557 - accuracy: 0.8870 - val_loss: 0.2929 - val_accuracy: 0.8955\n",
            "Epoch 12/30\n",
            "13/13 [==============================] - 8s 579ms/step - loss: 0.1933 - accuracy: 0.9399 - val_loss: 0.5508 - val_accuracy: 0.7463\n",
            "Epoch 13/30\n",
            "13/13 [==============================] - 8s 573ms/step - loss: 0.2305 - accuracy: 0.9038 - val_loss: 0.2712 - val_accuracy: 0.9104\n",
            "Epoch 14/30\n",
            "13/13 [==============================] - 8s 581ms/step - loss: 0.1758 - accuracy: 0.9495 - val_loss: 0.2692 - val_accuracy: 0.9030\n",
            "Epoch 15/30\n",
            "13/13 [==============================] - 8s 575ms/step - loss: 0.1537 - accuracy: 0.9543 - val_loss: 0.2848 - val_accuracy: 0.8955\n",
            "Epoch 16/30\n",
            "13/13 [==============================] - 8s 576ms/step - loss: 0.1621 - accuracy: 0.9495 - val_loss: 0.2495 - val_accuracy: 0.9104\n",
            "Epoch 17/30\n",
            "13/13 [==============================] - 8s 577ms/step - loss: 0.1511 - accuracy: 0.9519 - val_loss: 0.2495 - val_accuracy: 0.8955\n",
            "Epoch 18/30\n",
            "13/13 [==============================] - 8s 573ms/step - loss: 0.1395 - accuracy: 0.9567 - val_loss: 0.2721 - val_accuracy: 0.9030\n",
            "Epoch 19/30\n",
            "13/13 [==============================] - 8s 578ms/step - loss: 0.1423 - accuracy: 0.9591 - val_loss: 0.2452 - val_accuracy: 0.8881\n",
            "Epoch 20/30\n",
            "13/13 [==============================] - 8s 576ms/step - loss: 0.1543 - accuracy: 0.9423 - val_loss: 0.4151 - val_accuracy: 0.7836\n",
            "Epoch 21/30\n",
            "13/13 [==============================] - 8s 576ms/step - loss: 0.1330 - accuracy: 0.9712 - val_loss: 0.3251 - val_accuracy: 0.8582\n",
            "Epoch 22/30\n",
            "13/13 [==============================] - 8s 581ms/step - loss: 0.1380 - accuracy: 0.9591 - val_loss: 0.2236 - val_accuracy: 0.9328\n",
            "Epoch 23/30\n",
            "13/13 [==============================] - 8s 579ms/step - loss: 0.1253 - accuracy: 0.9615 - val_loss: 0.2541 - val_accuracy: 0.9179\n",
            "Epoch 24/30\n",
            "13/13 [==============================] - 8s 573ms/step - loss: 0.1402 - accuracy: 0.9591 - val_loss: 0.4131 - val_accuracy: 0.7836\n",
            "Epoch 25/30\n",
            "13/13 [==============================] - 8s 584ms/step - loss: 0.1290 - accuracy: 0.9615 - val_loss: 0.2200 - val_accuracy: 0.9478\n",
            "Epoch 26/30\n",
            "13/13 [==============================] - 8s 580ms/step - loss: 0.1250 - accuracy: 0.9615 - val_loss: 0.2211 - val_accuracy: 0.9328\n",
            "Epoch 27/30\n",
            "13/13 [==============================] - 8s 581ms/step - loss: 0.1886 - accuracy: 0.9351 - val_loss: 0.6435 - val_accuracy: 0.7015\n",
            "Epoch 28/30\n",
            "13/13 [==============================] - 8s 585ms/step - loss: 0.1389 - accuracy: 0.9639 - val_loss: 0.2182 - val_accuracy: 0.9254\n",
            "Epoch 29/30\n",
            "13/13 [==============================] - 8s 577ms/step - loss: 0.1760 - accuracy: 0.9303 - val_loss: 0.1945 - val_accuracy: 0.9254\n",
            "Epoch 30/30\n",
            "13/13 [==============================] - 8s 579ms/step - loss: 0.1703 - accuracy: 0.9327 - val_loss: 0.5357 - val_accuracy: 0.7463\n"
          ],
          "name": "stdout"
        }
      ]
    },
    {
      "cell_type": "code",
      "metadata": {
        "id": "2ZMtAY8L2cPa"
      },
      "source": [
        "#save this model so that we can do testing by using tgis model..\n",
        "#save it as h5 file\n",
        "from tensorflow.keras.models import load_model\n",
        "model.save('model_VGG19.h5')"
      ],
      "execution_count": null,
      "outputs": []
    },
    {
      "cell_type": "code",
      "metadata": {
        "colab": {
          "base_uri": "https://localhost:8080/"
        },
        "id": "QbmcHwQlyb7C",
        "outputId": "91f911eb-d2c1-49d1-cf50-8f5b302a055e"
      },
      "source": [
        "y_pred =model.predict(testing_data)\n",
        "y_pred"
      ],
      "execution_count": null,
      "outputs": [
        {
          "output_type": "execute_result",
          "data": {
            "text/plain": [
              "array([[1.93823487e-01, 8.06176543e-01],\n",
              "       [4.11084116e-01, 5.88915944e-01],\n",
              "       [4.15345848e-01, 5.84654152e-01],\n",
              "       [1.41669447e-02, 9.85833049e-01],\n",
              "       [4.56187166e-02, 9.54381287e-01],\n",
              "       [8.15461278e-01, 1.84538722e-01],\n",
              "       [3.66939115e-03, 9.96330678e-01],\n",
              "       [9.54561591e-01, 4.54384536e-02],\n",
              "       [4.62178141e-02, 9.53782201e-01],\n",
              "       [5.12115240e-01, 4.87884760e-01],\n",
              "       [9.92781460e-01, 7.21861329e-03],\n",
              "       [1.35451481e-01, 8.64548504e-01],\n",
              "       [9.39716637e-01, 6.02833964e-02],\n",
              "       [1.01261903e-02, 9.89873767e-01],\n",
              "       [3.87459015e-03, 9.96125400e-01],\n",
              "       [4.55657989e-01, 5.44342041e-01],\n",
              "       [9.41675067e-01, 5.83249070e-02],\n",
              "       [1.73513368e-02, 9.82648611e-01],\n",
              "       [6.66340113e-01, 3.33659887e-01],\n",
              "       [9.35678631e-02, 9.06432152e-01],\n",
              "       [3.69597636e-02, 9.63040233e-01],\n",
              "       [1.28999893e-02, 9.87100005e-01],\n",
              "       [9.89197433e-01, 1.08025754e-02],\n",
              "       [9.77157533e-01, 2.28424612e-02],\n",
              "       [9.84196842e-01, 1.58031806e-02],\n",
              "       [1.85378939e-01, 8.14621031e-01],\n",
              "       [2.56883264e-01, 7.43116736e-01],\n",
              "       [7.86588967e-01, 2.13411003e-01],\n",
              "       [6.71119243e-03, 9.93288815e-01],\n",
              "       [9.92924213e-01, 7.07580894e-03],\n",
              "       [6.65890157e-01, 3.34109843e-01],\n",
              "       [4.46334947e-03, 9.95536685e-01],\n",
              "       [1.26088690e-02, 9.87391055e-01],\n",
              "       [1.20980833e-02, 9.87901926e-01],\n",
              "       [8.29697326e-02, 9.17030275e-01],\n",
              "       [6.10974338e-03, 9.93890285e-01],\n",
              "       [2.30334513e-03, 9.97696698e-01],\n",
              "       [9.93647873e-01, 6.35213871e-03],\n",
              "       [3.71285707e-01, 6.28714323e-01],\n",
              "       [2.92354852e-01, 7.07645118e-01],\n",
              "       [2.77751349e-02, 9.72224891e-01],\n",
              "       [9.77574289e-01, 2.24257521e-02],\n",
              "       [3.78680825e-01, 6.21319175e-01],\n",
              "       [5.46126068e-02, 9.45387423e-01],\n",
              "       [2.51041144e-01, 7.48958826e-01],\n",
              "       [1.77648831e-02, 9.82235134e-01],\n",
              "       [4.17757779e-02, 9.58224177e-01],\n",
              "       [9.76983249e-01, 2.30166782e-02],\n",
              "       [6.08737580e-03, 9.93912637e-01],\n",
              "       [1.36397230e-02, 9.86360312e-01],\n",
              "       [1.01537757e-01, 8.98462296e-01],\n",
              "       [9.96076405e-01, 3.92354280e-03],\n",
              "       [9.99528050e-01, 4.71995008e-04],\n",
              "       [9.42988932e-01, 5.70111014e-02],\n",
              "       [2.56446786e-02, 9.74355340e-01],\n",
              "       [2.01254413e-01, 7.98745573e-01],\n",
              "       [2.93730825e-01, 7.06269205e-01],\n",
              "       [8.03690791e-01, 1.96309179e-01],\n",
              "       [9.99693036e-01, 3.07032111e-04],\n",
              "       [9.80452120e-01, 1.95479393e-02],\n",
              "       [1.07045695e-02, 9.89295423e-01],\n",
              "       [6.27649188e-01, 3.72350842e-01],\n",
              "       [6.53573126e-03, 9.93464291e-01],\n",
              "       [9.99996424e-01, 3.54913732e-06],\n",
              "       [9.99996781e-01, 3.16255432e-06],\n",
              "       [2.04933267e-02, 9.79506671e-01],\n",
              "       [9.99706089e-01, 2.93917372e-04],\n",
              "       [4.25551802e-01, 5.74448228e-01],\n",
              "       [7.17060547e-03, 9.92829382e-01],\n",
              "       [8.59929621e-03, 9.91400659e-01],\n",
              "       [9.97520626e-01, 2.47938558e-03],\n",
              "       [1.73788130e-01, 8.26211929e-01],\n",
              "       [8.72539818e-01, 1.27460167e-01],\n",
              "       [4.77091223e-03, 9.95229125e-01],\n",
              "       [9.99859333e-01, 1.40682008e-04],\n",
              "       [7.84665108e-01, 2.15334967e-01],\n",
              "       [8.69853273e-02, 9.13014650e-01],\n",
              "       [9.52833056e-01, 4.71669696e-02],\n",
              "       [9.99987245e-01, 1.28125839e-05],\n",
              "       [6.27302647e-01, 3.72697324e-01],\n",
              "       [2.50260204e-01, 7.49739826e-01],\n",
              "       [7.86177397e-01, 2.13822603e-01],\n",
              "       [1.05725583e-02, 9.89427388e-01],\n",
              "       [9.92976069e-01, 7.02389702e-03],\n",
              "       [1.76396128e-02, 9.82360363e-01],\n",
              "       [9.98150885e-01, 1.84912037e-03],\n",
              "       [1.66668653e-01, 8.33331287e-01],\n",
              "       [9.06694114e-01, 9.33058858e-02],\n",
              "       [9.99862671e-01, 1.37304101e-04],\n",
              "       [1.56003712e-02, 9.84399676e-01],\n",
              "       [9.97850060e-01, 2.14992813e-03],\n",
              "       [1.58743575e-01, 8.41256440e-01],\n",
              "       [4.75585252e-01, 5.24414778e-01],\n",
              "       [9.98778284e-01, 1.22175738e-03],\n",
              "       [9.98215675e-01, 1.78437098e-03],\n",
              "       [4.56470298e-03, 9.95435297e-01],\n",
              "       [2.37508453e-02, 9.76249099e-01],\n",
              "       [3.13908700e-03, 9.96860981e-01],\n",
              "       [3.19205299e-02, 9.68079448e-01],\n",
              "       [1.35309085e-01, 8.64690959e-01],\n",
              "       [9.94143903e-01, 5.85611444e-03],\n",
              "       [9.91751969e-01, 8.24807119e-03],\n",
              "       [7.45578029e-04, 9.99254405e-01],\n",
              "       [2.14271396e-02, 9.78572786e-01],\n",
              "       [9.63984013e-01, 3.60160135e-02],\n",
              "       [7.79658079e-01, 2.20341906e-01],\n",
              "       [1.07452143e-02, 9.89254832e-01],\n",
              "       [9.94161427e-01, 5.83856273e-03],\n",
              "       [9.71401989e-01, 2.85979751e-02],\n",
              "       [2.71838694e-03, 9.97281551e-01],\n",
              "       [3.70801543e-03, 9.96291995e-01],\n",
              "       [2.93653429e-01, 7.06346571e-01],\n",
              "       [4.58921343e-01, 5.41078627e-01],\n",
              "       [1.33268163e-02, 9.86673236e-01],\n",
              "       [9.99935985e-01, 6.39927748e-05],\n",
              "       [2.45516464e-01, 7.54483521e-01],\n",
              "       [4.91811633e-01, 5.08188367e-01],\n",
              "       [1.80834159e-02, 9.81916606e-01],\n",
              "       [2.49480959e-02, 9.75051939e-01],\n",
              "       [8.43860745e-01, 1.56139255e-01],\n",
              "       [5.72896481e-01, 4.27103519e-01],\n",
              "       [9.94108081e-01, 5.89192286e-03],\n",
              "       [9.59822774e-01, 4.01772149e-02],\n",
              "       [8.44629761e-03, 9.91553724e-01],\n",
              "       [1.38162058e-02, 9.86183822e-01],\n",
              "       [8.47897291e-01, 1.52102768e-01],\n",
              "       [2.49932632e-01, 7.50067353e-01],\n",
              "       [9.94223416e-01, 5.77663584e-03],\n",
              "       [9.96942580e-01, 3.05735436e-03],\n",
              "       [8.76767784e-02, 9.12323236e-01],\n",
              "       [8.05468440e-01, 1.94531590e-01],\n",
              "       [3.47867191e-01, 6.52132809e-01],\n",
              "       [9.99660254e-01, 3.39702121e-04],\n",
              "       [2.53956486e-02, 9.74604368e-01]], dtype=float32)"
            ]
          },
          "metadata": {},
          "execution_count": 20
        }
      ]
    },
    {
      "cell_type": "code",
      "metadata": {
        "colab": {
          "base_uri": "https://localhost:8080/"
        },
        "id": "nd87vRZ5zuCf",
        "outputId": "aeee5025-163b-481c-9913-e772f55a8ac1"
      },
      "source": [
        "y_pred =np.argmax(y_pred,axis=1)\n",
        "y_pred"
      ],
      "execution_count": null,
      "outputs": [
        {
          "output_type": "execute_result",
          "data": {
            "text/plain": [
              "array([1, 1, 1, 1, 1, 0, 1, 0, 1, 0, 0, 1, 0, 1, 1, 1, 0, 1, 0, 1, 1, 1,\n",
              "       0, 0, 0, 1, 1, 0, 1, 0, 0, 1, 1, 1, 1, 1, 1, 0, 1, 1, 1, 0, 1, 1,\n",
              "       1, 1, 1, 0, 1, 1, 1, 0, 0, 0, 1, 1, 1, 0, 0, 0, 1, 0, 1, 0, 0, 1,\n",
              "       0, 1, 1, 1, 0, 1, 0, 1, 0, 0, 1, 0, 0, 0, 1, 0, 1, 0, 1, 0, 1, 0,\n",
              "       0, 1, 0, 1, 1, 0, 0, 1, 1, 1, 1, 1, 0, 0, 1, 1, 0, 0, 1, 0, 0, 1,\n",
              "       1, 1, 1, 1, 0, 1, 1, 1, 1, 0, 0, 0, 0, 1, 1, 0, 1, 0, 0, 1, 0, 1,\n",
              "       0, 1])"
            ]
          },
          "metadata": {},
          "execution_count": 21
        }
      ]
    },
    {
      "cell_type": "code",
      "metadata": {
        "colab": {
          "base_uri": "https://localhost:8080/"
        },
        "id": "tlnQze8Ub6yS",
        "outputId": "d15d6759-63ec-4f41-f44f-c72d39b8b05c"
      },
      "source": [
        "np.shape(y_pred)"
      ],
      "execution_count": null,
      "outputs": [
        {
          "output_type": "execute_result",
          "data": {
            "text/plain": [
              "(134,)"
            ]
          },
          "metadata": {},
          "execution_count": 22
        }
      ]
    },
    {
      "cell_type": "code",
      "metadata": {
        "colab": {
          "base_uri": "https://localhost:8080/",
          "height": 144
        },
        "id": "JOA2Evdf0A2K",
        "outputId": "9a153045-1b91-4031-b273-bde97402efb0"
      },
      "source": [
        "Image(\"/content/Dataset/Test/Parasite/C39P4thinF_original_IMG_20150622_105554_cell_14.png\")"
      ],
      "execution_count": null,
      "outputs": [
        {
          "output_type": "execute_result",
          "data": {
            "image/png": "[encoded data removed]",
            "text/plain": [
              "<IPython.core.display.Image object>"
            ]
          },
          "metadata": {},
          "execution_count": 31
        }
      ]
    },
    {
      "cell_type": "code",
      "metadata": {
        "id": "4Nj_8rGO2WZ8"
      },
      "source": [
        "from tensorflow.keras.models import load_model\n",
        "from tensorflow.keras.preprocessing import image\n",
        "model=load_model('model_VGG19.h5')"
      ],
      "execution_count": null,
      "outputs": []
    },
    {
      "cell_type": "code",
      "metadata": {
        "colab": {
          "base_uri": "https://localhost:8080/"
        },
        "id": "1QMMzpCB1tMh",
        "outputId": "d1d37d5b-f571-4fa1-e4fd-973f3b4fc952"
      },
      "source": [
        "#let us check with model this same image .\n",
        "img=image.load_img('/content/Dataset/Test/Parasite/C39P4thinF_original_IMG_20150622_105554_cell_14.png',target_size=(224,224))\n",
        "x=image.img_to_array(img)\n",
        "x"
      ],
      "execution_count": null,
      "outputs": [
        {
          "output_type": "execute_result",
          "data": {
            "text/plain": [
              "array([[[0., 0., 0.],\n",
              "        [0., 0., 0.],\n",
              "        [0., 0., 0.],\n",
              "        ...,\n",
              "        [0., 0., 0.],\n",
              "        [0., 0., 0.],\n",
              "        [0., 0., 0.]],\n",
              "\n",
              "       [[0., 0., 0.],\n",
              "        [0., 0., 0.],\n",
              "        [0., 0., 0.],\n",
              "        ...,\n",
              "        [0., 0., 0.],\n",
              "        [0., 0., 0.],\n",
              "        [0., 0., 0.]],\n",
              "\n",
              "       [[0., 0., 0.],\n",
              "        [0., 0., 0.],\n",
              "        [0., 0., 0.],\n",
              "        ...,\n",
              "        [0., 0., 0.],\n",
              "        [0., 0., 0.],\n",
              "        [0., 0., 0.]],\n",
              "\n",
              "       ...,\n",
              "\n",
              "       [[0., 0., 0.],\n",
              "        [0., 0., 0.],\n",
              "        [0., 0., 0.],\n",
              "        ...,\n",
              "        [0., 0., 0.],\n",
              "        [0., 0., 0.],\n",
              "        [0., 0., 0.]],\n",
              "\n",
              "       [[0., 0., 0.],\n",
              "        [0., 0., 0.],\n",
              "        [0., 0., 0.],\n",
              "        ...,\n",
              "        [0., 0., 0.],\n",
              "        [0., 0., 0.],\n",
              "        [0., 0., 0.]],\n",
              "\n",
              "       [[0., 0., 0.],\n",
              "        [0., 0., 0.],\n",
              "        [0., 0., 0.],\n",
              "        ...,\n",
              "        [0., 0., 0.],\n",
              "        [0., 0., 0.],\n",
              "        [0., 0., 0.]]], dtype=float32)"
            ]
          },
          "metadata": {},
          "execution_count": 33
        }
      ]
    },
    {
      "cell_type": "code",
      "metadata": {
        "colab": {
          "base_uri": "https://localhost:8080/"
        },
        "id": "dbVFDE263If2",
        "outputId": "9b90a666-70e9-4bb7-b669-b61eac7c5c06"
      },
      "source": [
        "x=x/255\n",
        "x=np.expand_dims(x,axis=0)\n",
        "img_data=preprocess_input(x)\n",
        "img_data.shape"
      ],
      "execution_count": null,
      "outputs": [
        {
          "output_type": "execute_result",
          "data": {
            "text/plain": [
              "(1, 224, 224, 3)"
            ]
          },
          "metadata": {},
          "execution_count": 34
        }
      ]
    },
    {
      "cell_type": "code",
      "metadata": {
        "colab": {
          "base_uri": "https://localhost:8080/"
        },
        "id": "XYBrq_8d3fQr",
        "outputId": "ae5b2bba-274f-42fa-e868-ab6eb367cfc6"
      },
      "source": [
        "model.predict(img_data)"
      ],
      "execution_count": null,
      "outputs": [
        {
          "output_type": "execute_result",
          "data": {
            "text/plain": [
              "array([[0.02677543, 0.9732246 ]], dtype=float32)"
            ]
          },
          "metadata": {},
          "execution_count": 35
        }
      ]
    },
    {
      "cell_type": "code",
      "metadata": {
        "id": "UF131sEM3ur9"
      },
      "source": [
        "result =np.argmax(model.predict(img_data),axis=1)"
      ],
      "execution_count": null,
      "outputs": []
    },
    {
      "cell_type": "code",
      "metadata": {
        "colab": {
          "base_uri": "https://localhost:8080/"
        },
        "id": "FBeM_z7I4P7m",
        "outputId": "aff21955-7077-4ad7-ae26-98418cb59cda"
      },
      "source": [
        "if (result == 1):\n",
        "  print(\"Sample is tested +ve For Maleria[Parasite]\")\n",
        "else :\n",
        "  print(\"Sample is tested -ve For Maleria[Parasite]\")"
      ],
      "execution_count": null,
      "outputs": [
        {
          "output_type": "stream",
          "text": [
            "Sample is tested +ve For Maleria[Parasite]\n"
          ],
          "name": "stdout"
        }
      ]
    },
    {
      "cell_type": "code",
      "metadata": {
        "id": "uja0uJug5GIM"
      },
      "source": [
        ""
      ],
      "execution_count": null,
      "outputs": []
    }
  ]
}