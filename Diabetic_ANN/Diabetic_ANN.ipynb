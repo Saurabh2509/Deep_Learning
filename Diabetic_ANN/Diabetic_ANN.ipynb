{
  "nbformat": 4,
  "nbformat_minor": 0,
  "metadata": {
    "colab": {
      "name": "Diabetic_ANN",
      "provenance": []
    },
    "kernelspec": {
      "name": "python3",
      "display_name": "Python 3"
    },
    "language_info": {
      "name": "python"
    },
    "accelerator": "GPU"
  },
  "cells": [
    {
      "cell_type": "code",
      "metadata": {
        "id": "WEjB3NNKLWL_"
      },
      "source": [
        "import pandas as pd\n",
        "import numpy as np\n",
        "import matplotlib.pyplot as plt\n",
        "import matplotlib_inline\n",
        "import seaborn as sns"
      ],
      "execution_count": 1,
      "outputs": []
    },
    {
      "cell_type": "code",
      "metadata": {
        "id": "vqkH0ov4SOUb"
      },
      "source": [
        "import warnings\n",
        "warnings.filterwarnings(\"ignore\")"
      ],
      "execution_count": 2,
      "outputs": []
    },
    {
      "cell_type": "code",
      "metadata": {
        "id": "_fvhtUNDMcWr"
      },
      "source": [
        "df=pd.read_csv(\"/content/diabetes_data.csv\")"
      ],
      "execution_count": 3,
      "outputs": []
    },
    {
      "cell_type": "code",
      "metadata": {
        "colab": {
          "base_uri": "https://localhost:8080/",
          "height": 204
        },
        "id": "xDbNwRO3NMFS",
        "outputId": "ff100d10-25ec-43e6-8351-8641868376a6"
      },
      "source": [
        "df.head()"
      ],
      "execution_count": 4,
      "outputs": [
        {
          "output_type": "execute_result",
          "data": {
            "text/html": [
              "<div>\n",
              "<style scoped>\n",
              "    .dataframe tbody tr th:only-of-type {\n",
              "        vertical-align: middle;\n",
              "    }\n",
              "\n",
              "    .dataframe tbody tr th {\n",
              "        vertical-align: top;\n",
              "    }\n",
              "\n",
              "    .dataframe thead th {\n",
              "        text-align: right;\n",
              "    }\n",
              "</style>\n",
              "<table border=\"1\" class=\"dataframe\">\n",
              "  <thead>\n",
              "    <tr style=\"text-align: right;\">\n",
              "      <th></th>\n",
              "      <th>Pregnancies</th>\n",
              "      <th>Glucose</th>\n",
              "      <th>BloodPressure</th>\n",
              "      <th>SkinThickness</th>\n",
              "      <th>Insulin</th>\n",
              "      <th>BMI</th>\n",
              "      <th>DiabetesPedigreeFunction</th>\n",
              "      <th>Age</th>\n",
              "      <th>Outcome</th>\n",
              "    </tr>\n",
              "  </thead>\n",
              "  <tbody>\n",
              "    <tr>\n",
              "      <th>0</th>\n",
              "      <td>6</td>\n",
              "      <td>148</td>\n",
              "      <td>72</td>\n",
              "      <td>35</td>\n",
              "      <td>0</td>\n",
              "      <td>33.6</td>\n",
              "      <td>0.627</td>\n",
              "      <td>50</td>\n",
              "      <td>1</td>\n",
              "    </tr>\n",
              "    <tr>\n",
              "      <th>1</th>\n",
              "      <td>1</td>\n",
              "      <td>85</td>\n",
              "      <td>66</td>\n",
              "      <td>29</td>\n",
              "      <td>0</td>\n",
              "      <td>26.6</td>\n",
              "      <td>0.351</td>\n",
              "      <td>31</td>\n",
              "      <td>0</td>\n",
              "    </tr>\n",
              "    <tr>\n",
              "      <th>2</th>\n",
              "      <td>8</td>\n",
              "      <td>183</td>\n",
              "      <td>64</td>\n",
              "      <td>0</td>\n",
              "      <td>0</td>\n",
              "      <td>23.3</td>\n",
              "      <td>0.672</td>\n",
              "      <td>32</td>\n",
              "      <td>1</td>\n",
              "    </tr>\n",
              "    <tr>\n",
              "      <th>3</th>\n",
              "      <td>1</td>\n",
              "      <td>89</td>\n",
              "      <td>66</td>\n",
              "      <td>23</td>\n",
              "      <td>94</td>\n",
              "      <td>28.1</td>\n",
              "      <td>0.167</td>\n",
              "      <td>21</td>\n",
              "      <td>0</td>\n",
              "    </tr>\n",
              "    <tr>\n",
              "      <th>4</th>\n",
              "      <td>0</td>\n",
              "      <td>137</td>\n",
              "      <td>40</td>\n",
              "      <td>35</td>\n",
              "      <td>168</td>\n",
              "      <td>43.1</td>\n",
              "      <td>2.288</td>\n",
              "      <td>33</td>\n",
              "      <td>1</td>\n",
              "    </tr>\n",
              "  </tbody>\n",
              "</table>\n",
              "</div>"
            ],
            "text/plain": [
              "   Pregnancies  Glucose  BloodPressure  ...  DiabetesPedigreeFunction  Age  Outcome\n",
              "0            6      148             72  ...                     0.627   50        1\n",
              "1            1       85             66  ...                     0.351   31        0\n",
              "2            8      183             64  ...                     0.672   32        1\n",
              "3            1       89             66  ...                     0.167   21        0\n",
              "4            0      137             40  ...                     2.288   33        1\n",
              "\n",
              "[5 rows x 9 columns]"
            ]
          },
          "metadata": {
            "tags": []
          },
          "execution_count": 4
        }
      ]
    },
    {
      "cell_type": "code",
      "metadata": {
        "colab": {
          "base_uri": "https://localhost:8080/"
        },
        "id": "5qNMJNmGO36R",
        "outputId": "2707eecd-22a3-4edd-e781-c915299b5e71"
      },
      "source": [
        "df.shape"
      ],
      "execution_count": 5,
      "outputs": [
        {
          "output_type": "execute_result",
          "data": {
            "text/plain": [
              "(768, 9)"
            ]
          },
          "metadata": {
            "tags": []
          },
          "execution_count": 5
        }
      ]
    },
    {
      "cell_type": "code",
      "metadata": {
        "colab": {
          "base_uri": "https://localhost:8080/",
          "height": 317
        },
        "id": "39MgqDz2O529",
        "outputId": "09886ae1-e631-4ad6-9f03-ab71605d3e19"
      },
      "source": [
        "df.describe()"
      ],
      "execution_count": 6,
      "outputs": [
        {
          "output_type": "execute_result",
          "data": {
            "text/html": [
              "<div>\n",
              "<style scoped>\n",
              "    .dataframe tbody tr th:only-of-type {\n",
              "        vertical-align: middle;\n",
              "    }\n",
              "\n",
              "    .dataframe tbody tr th {\n",
              "        vertical-align: top;\n",
              "    }\n",
              "\n",
              "    .dataframe thead th {\n",
              "        text-align: right;\n",
              "    }\n",
              "</style>\n",
              "<table border=\"1\" class=\"dataframe\">\n",
              "  <thead>\n",
              "    <tr style=\"text-align: right;\">\n",
              "      <th></th>\n",
              "      <th>Pregnancies</th>\n",
              "      <th>Glucose</th>\n",
              "      <th>BloodPressure</th>\n",
              "      <th>SkinThickness</th>\n",
              "      <th>Insulin</th>\n",
              "      <th>BMI</th>\n",
              "      <th>DiabetesPedigreeFunction</th>\n",
              "      <th>Age</th>\n",
              "      <th>Outcome</th>\n",
              "    </tr>\n",
              "  </thead>\n",
              "  <tbody>\n",
              "    <tr>\n",
              "      <th>count</th>\n",
              "      <td>768.000000</td>\n",
              "      <td>768.000000</td>\n",
              "      <td>768.000000</td>\n",
              "      <td>768.000000</td>\n",
              "      <td>768.000000</td>\n",
              "      <td>768.000000</td>\n",
              "      <td>768.000000</td>\n",
              "      <td>768.000000</td>\n",
              "      <td>768.000000</td>\n",
              "    </tr>\n",
              "    <tr>\n",
              "      <th>mean</th>\n",
              "      <td>3.845052</td>\n",
              "      <td>120.894531</td>\n",
              "      <td>69.105469</td>\n",
              "      <td>20.536458</td>\n",
              "      <td>79.799479</td>\n",
              "      <td>31.992578</td>\n",
              "      <td>0.471876</td>\n",
              "      <td>33.240885</td>\n",
              "      <td>0.348958</td>\n",
              "    </tr>\n",
              "    <tr>\n",
              "      <th>std</th>\n",
              "      <td>3.369578</td>\n",
              "      <td>31.972618</td>\n",
              "      <td>19.355807</td>\n",
              "      <td>15.952218</td>\n",
              "      <td>115.244002</td>\n",
              "      <td>7.884160</td>\n",
              "      <td>0.331329</td>\n",
              "      <td>11.760232</td>\n",
              "      <td>0.476951</td>\n",
              "    </tr>\n",
              "    <tr>\n",
              "      <th>min</th>\n",
              "      <td>0.000000</td>\n",
              "      <td>0.000000</td>\n",
              "      <td>0.000000</td>\n",
              "      <td>0.000000</td>\n",
              "      <td>0.000000</td>\n",
              "      <td>0.000000</td>\n",
              "      <td>0.078000</td>\n",
              "      <td>21.000000</td>\n",
              "      <td>0.000000</td>\n",
              "    </tr>\n",
              "    <tr>\n",
              "      <th>25%</th>\n",
              "      <td>1.000000</td>\n",
              "      <td>99.000000</td>\n",
              "      <td>62.000000</td>\n",
              "      <td>0.000000</td>\n",
              "      <td>0.000000</td>\n",
              "      <td>27.300000</td>\n",
              "      <td>0.243750</td>\n",
              "      <td>24.000000</td>\n",
              "      <td>0.000000</td>\n",
              "    </tr>\n",
              "    <tr>\n",
              "      <th>50%</th>\n",
              "      <td>3.000000</td>\n",
              "      <td>117.000000</td>\n",
              "      <td>72.000000</td>\n",
              "      <td>23.000000</td>\n",
              "      <td>30.500000</td>\n",
              "      <td>32.000000</td>\n",
              "      <td>0.372500</td>\n",
              "      <td>29.000000</td>\n",
              "      <td>0.000000</td>\n",
              "    </tr>\n",
              "    <tr>\n",
              "      <th>75%</th>\n",
              "      <td>6.000000</td>\n",
              "      <td>140.250000</td>\n",
              "      <td>80.000000</td>\n",
              "      <td>32.000000</td>\n",
              "      <td>127.250000</td>\n",
              "      <td>36.600000</td>\n",
              "      <td>0.626250</td>\n",
              "      <td>41.000000</td>\n",
              "      <td>1.000000</td>\n",
              "    </tr>\n",
              "    <tr>\n",
              "      <th>max</th>\n",
              "      <td>17.000000</td>\n",
              "      <td>199.000000</td>\n",
              "      <td>122.000000</td>\n",
              "      <td>99.000000</td>\n",
              "      <td>846.000000</td>\n",
              "      <td>67.100000</td>\n",
              "      <td>2.420000</td>\n",
              "      <td>81.000000</td>\n",
              "      <td>1.000000</td>\n",
              "    </tr>\n",
              "  </tbody>\n",
              "</table>\n",
              "</div>"
            ],
            "text/plain": [
              "       Pregnancies     Glucose  ...         Age     Outcome\n",
              "count   768.000000  768.000000  ...  768.000000  768.000000\n",
              "mean      3.845052  120.894531  ...   33.240885    0.348958\n",
              "std       3.369578   31.972618  ...   11.760232    0.476951\n",
              "min       0.000000    0.000000  ...   21.000000    0.000000\n",
              "25%       1.000000   99.000000  ...   24.000000    0.000000\n",
              "50%       3.000000  117.000000  ...   29.000000    0.000000\n",
              "75%       6.000000  140.250000  ...   41.000000    1.000000\n",
              "max      17.000000  199.000000  ...   81.000000    1.000000\n",
              "\n",
              "[8 rows x 9 columns]"
            ]
          },
          "metadata": {
            "tags": []
          },
          "execution_count": 6
        }
      ]
    },
    {
      "cell_type": "code",
      "metadata": {
        "colab": {
          "base_uri": "https://localhost:8080/"
        },
        "id": "xf9e8X6GO94-",
        "outputId": "e705c6bc-70b4-4420-8bb7-9fc81a789f44"
      },
      "source": [
        "df.info()"
      ],
      "execution_count": 7,
      "outputs": [
        {
          "output_type": "stream",
          "text": [
            "<class 'pandas.core.frame.DataFrame'>\n",
            "RangeIndex: 768 entries, 0 to 767\n",
            "Data columns (total 9 columns):\n",
            " #   Column                    Non-Null Count  Dtype  \n",
            "---  ------                    --------------  -----  \n",
            " 0   Pregnancies               768 non-null    int64  \n",
            " 1   Glucose                   768 non-null    int64  \n",
            " 2   BloodPressure             768 non-null    int64  \n",
            " 3   SkinThickness             768 non-null    int64  \n",
            " 4   Insulin                   768 non-null    int64  \n",
            " 5   BMI                       768 non-null    float64\n",
            " 6   DiabetesPedigreeFunction  768 non-null    float64\n",
            " 7   Age                       768 non-null    int64  \n",
            " 8   Outcome                   768 non-null    int64  \n",
            "dtypes: float64(2), int64(7)\n",
            "memory usage: 54.1 KB\n"
          ],
          "name": "stdout"
        }
      ]
    },
    {
      "cell_type": "code",
      "metadata": {
        "colab": {
          "base_uri": "https://localhost:8080/"
        },
        "id": "PqrvHE7IPBay",
        "outputId": "1e22ccec-747c-445e-d3c6-d7a8babe1aac"
      },
      "source": [
        "df.isnull().sum()"
      ],
      "execution_count": 8,
      "outputs": [
        {
          "output_type": "execute_result",
          "data": {
            "text/plain": [
              "Pregnancies                 0\n",
              "Glucose                     0\n",
              "BloodPressure               0\n",
              "SkinThickness               0\n",
              "Insulin                     0\n",
              "BMI                         0\n",
              "DiabetesPedigreeFunction    0\n",
              "Age                         0\n",
              "Outcome                     0\n",
              "dtype: int64"
            ]
          },
          "metadata": {
            "tags": []
          },
          "execution_count": 8
        }
      ]
    },
    {
      "cell_type": "code",
      "metadata": {
        "id": "wIKqrc2UNO7e"
      },
      "source": [
        "#independent and dependent split\n",
        "X=df.iloc[:,:-1]\n",
        "y=df.iloc[:,-1]"
      ],
      "execution_count": 9,
      "outputs": []
    },
    {
      "cell_type": "code",
      "metadata": {
        "id": "VzB1hQ4bZv2w"
      },
      "source": [
        "#scaling the data\n",
        "from sklearn.preprocessing import StandardScaler\n",
        "Scaler = StandardScaler()"
      ],
      "execution_count": 10,
      "outputs": []
    },
    {
      "cell_type": "code",
      "metadata": {
        "id": "ncuIdP9pQQq4"
      },
      "source": [
        "#X_scaling\n",
        "X_scale= Scaler.fit_transform(X)"
      ],
      "execution_count": 11,
      "outputs": []
    },
    {
      "cell_type": "code",
      "metadata": {
        "colab": {
          "base_uri": "https://localhost:8080/"
        },
        "id": "WVnaxLSOQgWq",
        "outputId": "03b7ca8e-0b9c-469c-82b9-8f398b9f1411"
      },
      "source": [
        "#check data is balance or imbalance\n",
        "y.value_counts()"
      ],
      "execution_count": 12,
      "outputs": [
        {
          "output_type": "execute_result",
          "data": {
            "text/plain": [
              "0    500\n",
              "1    268\n",
              "Name: Outcome, dtype: int64"
            ]
          },
          "metadata": {
            "tags": []
          },
          "execution_count": 12
        }
      ]
    },
    {
      "cell_type": "code",
      "metadata": {
        "id": "ymS0KPv1QpcU"
      },
      "source": [
        "#since data is imbalance to get accurate will try to balance the data\n",
        "from imblearn.over_sampling import SMOTE"
      ],
      "execution_count": 13,
      "outputs": []
    },
    {
      "cell_type": "code",
      "metadata": {
        "colab": {
          "base_uri": "https://localhost:8080/"
        },
        "id": "ICT-LtyRRc3w",
        "outputId": "468a13a1-5b19-41d3-d6f8-3f12703b9274"
      },
      "source": [
        "smote = SMOTE(sampling_strategy='minority')\n",
        "X_sm ,y_sm =smote.fit_sample(X_scale,y)\n",
        "print(\"Shape_X_sm:\",X_sm.shape)\n",
        "print(\"Shape_y_sm:\",y_sm.shape)"
      ],
      "execution_count": 14,
      "outputs": [
        {
          "output_type": "stream",
          "text": [
            "Shape_X_sm: (1000, 8)\n",
            "Shape_y_sm: (1000,)\n"
          ],
          "name": "stdout"
        }
      ]
    },
    {
      "cell_type": "code",
      "metadata": {
        "id": "vcjq29E4SMPo"
      },
      "source": [
        "#train_test_splits\n",
        "from sklearn.model_selection import train_test_split\n",
        "X_train,X_test,y_train,y_test =train_test_split(X_sm,y_sm,test_size=0.33,random_state=11,stratify=y_sm)"
      ],
      "execution_count": 15,
      "outputs": []
    },
    {
      "cell_type": "code",
      "metadata": {
        "colab": {
          "base_uri": "https://localhost:8080/"
        },
        "id": "vUfzjo7cU3hq",
        "outputId": "c89977ad-c69a-42f6-ce8b-2fb51fd73c6a"
      },
      "source": [
        "#Shape\n",
        "print(\"Shape_X_train:\",X_train.shape)\n",
        "print(\"Shape_X_test:\",X_test.shape)\n",
        "print(\"Shape_y_train:\",y_train.shape)\n",
        "print(\"Shape_y_test:\",y_test.shape)\n"
      ],
      "execution_count": 16,
      "outputs": [
        {
          "output_type": "stream",
          "text": [
            "Shape_X_train: (670, 8)\n",
            "Shape_X_test: (330, 8)\n",
            "Shape_y_train: (670,)\n",
            "Shape_y_test: (330,)\n"
          ],
          "name": "stdout"
        }
      ]
    },
    {
      "cell_type": "code",
      "metadata": {
        "id": "e-SESgv7VPYQ"
      },
      "source": [
        "#importing lib\n",
        "import tensorflow as tf\n",
        "from tensorflow import keras\n",
        "from keras import Sequential\n",
        "from keras.layers import Dense\n",
        "from keras.layers import Activation ,Dropout\n",
        "from keras import layers"
      ],
      "execution_count": 17,
      "outputs": []
    },
    {
      "cell_type": "code",
      "metadata": {
        "id": "3nvBQ5X7Vytz"
      },
      "source": [
        "#creating_neural_network\n",
        "model =Sequential()\n",
        "#1st_hidden_layers\n",
        "model.add(Dense(units=30, activation='relu', use_bias=True, kernel_initializer='he_uniform',input_dim=X_train.shape[1]))\n",
        "#2nd_hidden_layers\n",
        "model.add(Dense(units=45,activation='relu',kernel_initializer='he_uniform'))\n",
        "#3rd_hidden_layers\n",
        "model.add(Dense(units=20,activation='relu',kernel_initializer='he_uniform'))\n",
        "#output_layers\n",
        "model.add(Dense(units=1,activation='sigmoid',kernel_initializer='glorot_uniform'))"
      ],
      "execution_count": 18,
      "outputs": []
    },
    {
      "cell_type": "code",
      "metadata": {
        "colab": {
          "base_uri": "https://localhost:8080/"
        },
        "id": "uJX0A6rebUG7",
        "outputId": "7c9dd9ac-c6ef-4708-ccf6-8caf5650d025"
      },
      "source": [
        "model.summary()"
      ],
      "execution_count": 19,
      "outputs": [
        {
          "output_type": "stream",
          "text": [
            "Model: \"sequential\"\n",
            "_________________________________________________________________\n",
            "Layer (type)                 Output Shape              Param #   \n",
            "=================================================================\n",
            "dense (Dense)                (None, 30)                270       \n",
            "_________________________________________________________________\n",
            "dense_1 (Dense)              (None, 45)                1395      \n",
            "_________________________________________________________________\n",
            "dense_2 (Dense)              (None, 20)                920       \n",
            "_________________________________________________________________\n",
            "dense_3 (Dense)              (None, 1)                 21        \n",
            "=================================================================\n",
            "Total params: 2,606\n",
            "Trainable params: 2,606\n",
            "Non-trainable params: 0\n",
            "_________________________________________________________________\n"
          ],
          "name": "stdout"
        }
      ]
    },
    {
      "cell_type": "code",
      "metadata": {
        "id": "jNXbnecebWhO"
      },
      "source": [
        "#complie_model\n",
        "model.compile(optimizer='adam',loss='binary_crossentropy',metrics=['accuracy'])"
      ],
      "execution_count": 20,
      "outputs": []
    },
    {
      "cell_type": "code",
      "metadata": {
        "colab": {
          "base_uri": "https://localhost:8080/"
        },
        "id": "kSIit00Ob7fj",
        "outputId": "6ab2bd06-6f2f-4658-983b-1c27ef716438"
      },
      "source": [
        "#\n",
        "model_final =model.fit(X_train,y_train,batch_size=250,epochs=75,validation_split=.23)"
      ],
      "execution_count": 21,
      "outputs": [
        {
          "output_type": "stream",
          "text": [
            "Epoch 1/75\n",
            "3/3 [==============================] - 13s 281ms/step - loss: 0.8607 - accuracy: 0.4256 - val_loss: 0.7740 - val_accuracy: 0.4581\n",
            "Epoch 2/75\n",
            "3/3 [==============================] - 0s 12ms/step - loss: 0.8043 - accuracy: 0.4779 - val_loss: 0.7274 - val_accuracy: 0.5290\n",
            "Epoch 3/75\n",
            "3/3 [==============================] - 0s 10ms/step - loss: 0.7476 - accuracy: 0.5253 - val_loss: 0.6927 - val_accuracy: 0.5419\n",
            "Epoch 4/75\n",
            "3/3 [==============================] - 0s 10ms/step - loss: 0.7230 - accuracy: 0.5420 - val_loss: 0.6641 - val_accuracy: 0.5677\n",
            "Epoch 5/75\n",
            "3/3 [==============================] - 0s 11ms/step - loss: 0.6898 - accuracy: 0.5537 - val_loss: 0.6415 - val_accuracy: 0.6129\n",
            "Epoch 6/75\n",
            "3/3 [==============================] - 0s 11ms/step - loss: 0.6672 - accuracy: 0.5823 - val_loss: 0.6228 - val_accuracy: 0.6129\n",
            "Epoch 7/75\n",
            "3/3 [==============================] - 0s 10ms/step - loss: 0.6481 - accuracy: 0.6064 - val_loss: 0.6064 - val_accuracy: 0.6839\n",
            "Epoch 8/75\n",
            "3/3 [==============================] - 0s 10ms/step - loss: 0.6247 - accuracy: 0.6488 - val_loss: 0.5930 - val_accuracy: 0.6968\n",
            "Epoch 9/75\n",
            "3/3 [==============================] - 0s 11ms/step - loss: 0.6057 - accuracy: 0.6878 - val_loss: 0.5820 - val_accuracy: 0.7226\n",
            "Epoch 10/75\n",
            "3/3 [==============================] - 0s 11ms/step - loss: 0.5906 - accuracy: 0.7114 - val_loss: 0.5726 - val_accuracy: 0.7677\n",
            "Epoch 11/75\n",
            "3/3 [==============================] - 0s 10ms/step - loss: 0.5830 - accuracy: 0.7251 - val_loss: 0.5652 - val_accuracy: 0.7742\n",
            "Epoch 12/75\n",
            "3/3 [==============================] - 0s 11ms/step - loss: 0.5740 - accuracy: 0.7403 - val_loss: 0.5580 - val_accuracy: 0.7806\n",
            "Epoch 13/75\n",
            "3/3 [==============================] - 0s 14ms/step - loss: 0.5578 - accuracy: 0.7502 - val_loss: 0.5508 - val_accuracy: 0.7806\n",
            "Epoch 14/75\n",
            "3/3 [==============================] - 0s 10ms/step - loss: 0.5484 - accuracy: 0.7527 - val_loss: 0.5441 - val_accuracy: 0.7677\n",
            "Epoch 15/75\n",
            "3/3 [==============================] - 0s 10ms/step - loss: 0.5465 - accuracy: 0.7581 - val_loss: 0.5379 - val_accuracy: 0.7290\n",
            "Epoch 16/75\n",
            "3/3 [==============================] - 0s 11ms/step - loss: 0.5300 - accuracy: 0.7730 - val_loss: 0.5333 - val_accuracy: 0.7161\n",
            "Epoch 17/75\n",
            "3/3 [==============================] - 0s 11ms/step - loss: 0.5254 - accuracy: 0.7735 - val_loss: 0.5310 - val_accuracy: 0.7161\n",
            "Epoch 18/75\n",
            "3/3 [==============================] - 0s 11ms/step - loss: 0.5205 - accuracy: 0.7750 - val_loss: 0.5302 - val_accuracy: 0.7032\n",
            "Epoch 19/75\n",
            "3/3 [==============================] - 0s 15ms/step - loss: 0.5187 - accuracy: 0.7561 - val_loss: 0.5289 - val_accuracy: 0.7097\n",
            "Epoch 20/75\n",
            "3/3 [==============================] - 0s 11ms/step - loss: 0.5102 - accuracy: 0.7571 - val_loss: 0.5275 - val_accuracy: 0.7097\n",
            "Epoch 21/75\n",
            "3/3 [==============================] - 0s 11ms/step - loss: 0.5115 - accuracy: 0.7531 - val_loss: 0.5260 - val_accuracy: 0.7097\n",
            "Epoch 22/75\n",
            "3/3 [==============================] - 0s 12ms/step - loss: 0.5035 - accuracy: 0.7596 - val_loss: 0.5232 - val_accuracy: 0.7161\n",
            "Epoch 23/75\n",
            "3/3 [==============================] - 0s 10ms/step - loss: 0.4989 - accuracy: 0.7590 - val_loss: 0.5185 - val_accuracy: 0.7355\n",
            "Epoch 24/75\n",
            "3/3 [==============================] - 0s 10ms/step - loss: 0.4997 - accuracy: 0.7699 - val_loss: 0.5136 - val_accuracy: 0.7419\n",
            "Epoch 25/75\n",
            "3/3 [==============================] - 0s 11ms/step - loss: 0.4920 - accuracy: 0.7763 - val_loss: 0.5094 - val_accuracy: 0.7419\n",
            "Epoch 26/75\n",
            "3/3 [==============================] - 0s 12ms/step - loss: 0.4899 - accuracy: 0.7748 - val_loss: 0.5068 - val_accuracy: 0.7419\n",
            "Epoch 27/75\n",
            "3/3 [==============================] - 0s 11ms/step - loss: 0.4828 - accuracy: 0.7803 - val_loss: 0.5052 - val_accuracy: 0.7548\n",
            "Epoch 28/75\n",
            "3/3 [==============================] - 0s 10ms/step - loss: 0.4719 - accuracy: 0.7936 - val_loss: 0.5041 - val_accuracy: 0.7548\n",
            "Epoch 29/75\n",
            "3/3 [==============================] - 0s 11ms/step - loss: 0.4729 - accuracy: 0.7941 - val_loss: 0.5038 - val_accuracy: 0.7484\n",
            "Epoch 30/75\n",
            "3/3 [==============================] - 0s 12ms/step - loss: 0.4795 - accuracy: 0.7931 - val_loss: 0.5045 - val_accuracy: 0.7484\n",
            "Epoch 31/75\n",
            "3/3 [==============================] - 0s 10ms/step - loss: 0.4707 - accuracy: 0.7975 - val_loss: 0.5048 - val_accuracy: 0.7548\n",
            "Epoch 32/75\n",
            "3/3 [==============================] - 0s 11ms/step - loss: 0.4661 - accuracy: 0.7916 - val_loss: 0.5035 - val_accuracy: 0.7548\n",
            "Epoch 33/75\n",
            "3/3 [==============================] - 0s 11ms/step - loss: 0.4683 - accuracy: 0.7936 - val_loss: 0.5017 - val_accuracy: 0.7613\n",
            "Epoch 34/75\n",
            "3/3 [==============================] - 0s 11ms/step - loss: 0.4601 - accuracy: 0.7916 - val_loss: 0.5004 - val_accuracy: 0.7548\n",
            "Epoch 35/75\n",
            "3/3 [==============================] - 0s 10ms/step - loss: 0.4588 - accuracy: 0.8020 - val_loss: 0.5001 - val_accuracy: 0.7548\n",
            "Epoch 36/75\n",
            "3/3 [==============================] - 0s 11ms/step - loss: 0.4553 - accuracy: 0.8024 - val_loss: 0.4970 - val_accuracy: 0.7677\n",
            "Epoch 37/75\n",
            "3/3 [==============================] - 0s 11ms/step - loss: 0.4562 - accuracy: 0.8000 - val_loss: 0.4929 - val_accuracy: 0.7548\n",
            "Epoch 38/75\n",
            "3/3 [==============================] - 0s 11ms/step - loss: 0.4439 - accuracy: 0.8169 - val_loss: 0.4906 - val_accuracy: 0.7677\n",
            "Epoch 39/75\n",
            "3/3 [==============================] - 0s 13ms/step - loss: 0.4442 - accuracy: 0.8119 - val_loss: 0.4904 - val_accuracy: 0.7613\n",
            "Epoch 40/75\n",
            "3/3 [==============================] - 0s 12ms/step - loss: 0.4543 - accuracy: 0.8029 - val_loss: 0.4925 - val_accuracy: 0.7613\n",
            "Epoch 41/75\n",
            "3/3 [==============================] - 0s 11ms/step - loss: 0.4535 - accuracy: 0.8004 - val_loss: 0.4948 - val_accuracy: 0.7548\n",
            "Epoch 42/75\n",
            "3/3 [==============================] - 0s 11ms/step - loss: 0.4430 - accuracy: 0.8149 - val_loss: 0.4979 - val_accuracy: 0.7484\n",
            "Epoch 43/75\n",
            "3/3 [==============================] - 0s 17ms/step - loss: 0.4494 - accuracy: 0.7970 - val_loss: 0.5024 - val_accuracy: 0.7677\n",
            "Epoch 44/75\n",
            "3/3 [==============================] - 0s 12ms/step - loss: 0.4419 - accuracy: 0.7867 - val_loss: 0.5100 - val_accuracy: 0.7742\n",
            "Epoch 45/75\n",
            "3/3 [==============================] - 0s 13ms/step - loss: 0.4427 - accuracy: 0.7951 - val_loss: 0.5129 - val_accuracy: 0.7677\n",
            "Epoch 46/75\n",
            "3/3 [==============================] - 0s 12ms/step - loss: 0.4419 - accuracy: 0.7916 - val_loss: 0.5108 - val_accuracy: 0.7548\n",
            "Epoch 47/75\n",
            "3/3 [==============================] - 0s 11ms/step - loss: 0.4412 - accuracy: 0.7960 - val_loss: 0.5084 - val_accuracy: 0.7484\n",
            "Epoch 48/75\n",
            "3/3 [==============================] - 0s 10ms/step - loss: 0.4309 - accuracy: 0.8084 - val_loss: 0.5040 - val_accuracy: 0.7419\n",
            "Epoch 49/75\n",
            "3/3 [==============================] - 0s 10ms/step - loss: 0.4283 - accuracy: 0.8154 - val_loss: 0.4987 - val_accuracy: 0.7548\n",
            "Epoch 50/75\n",
            "3/3 [==============================] - 0s 11ms/step - loss: 0.4282 - accuracy: 0.8203 - val_loss: 0.4935 - val_accuracy: 0.7548\n",
            "Epoch 51/75\n",
            "3/3 [==============================] - 0s 10ms/step - loss: 0.4255 - accuracy: 0.8172 - val_loss: 0.4888 - val_accuracy: 0.7484\n",
            "Epoch 52/75\n",
            "3/3 [==============================] - 0s 11ms/step - loss: 0.4285 - accuracy: 0.8267 - val_loss: 0.4853 - val_accuracy: 0.7548\n",
            "Epoch 53/75\n",
            "3/3 [==============================] - 0s 13ms/step - loss: 0.4378 - accuracy: 0.8112 - val_loss: 0.4830 - val_accuracy: 0.7677\n",
            "Epoch 54/75\n",
            "3/3 [==============================] - 0s 11ms/step - loss: 0.4358 - accuracy: 0.8083 - val_loss: 0.4830 - val_accuracy: 0.7742\n",
            "Epoch 55/75\n",
            "3/3 [==============================] - 0s 10ms/step - loss: 0.4202 - accuracy: 0.8232 - val_loss: 0.4830 - val_accuracy: 0.7677\n",
            "Epoch 56/75\n",
            "3/3 [==============================] - 0s 11ms/step - loss: 0.4150 - accuracy: 0.8192 - val_loss: 0.4817 - val_accuracy: 0.7677\n",
            "Epoch 57/75\n",
            "3/3 [==============================] - 0s 12ms/step - loss: 0.4113 - accuracy: 0.8252 - val_loss: 0.4815 - val_accuracy: 0.7677\n",
            "Epoch 58/75\n",
            "3/3 [==============================] - 0s 13ms/step - loss: 0.4048 - accuracy: 0.8371 - val_loss: 0.4824 - val_accuracy: 0.7613\n",
            "Epoch 59/75\n",
            "3/3 [==============================] - 0s 11ms/step - loss: 0.4090 - accuracy: 0.8267 - val_loss: 0.4850 - val_accuracy: 0.7677\n",
            "Epoch 60/75\n",
            "3/3 [==============================] - 0s 12ms/step - loss: 0.4161 - accuracy: 0.8256 - val_loss: 0.4888 - val_accuracy: 0.7613\n",
            "Epoch 61/75\n",
            "3/3 [==============================] - 0s 12ms/step - loss: 0.4142 - accuracy: 0.8207 - val_loss: 0.4930 - val_accuracy: 0.7548\n",
            "Epoch 62/75\n",
            "3/3 [==============================] - 0s 10ms/step - loss: 0.4059 - accuracy: 0.8198 - val_loss: 0.4972 - val_accuracy: 0.7613\n",
            "Epoch 63/75\n",
            "3/3 [==============================] - 0s 13ms/step - loss: 0.4101 - accuracy: 0.8173 - val_loss: 0.4995 - val_accuracy: 0.7484\n",
            "Epoch 64/75\n",
            "3/3 [==============================] - 0s 10ms/step - loss: 0.4083 - accuracy: 0.8103 - val_loss: 0.5007 - val_accuracy: 0.7419\n",
            "Epoch 65/75\n",
            "3/3 [==============================] - 0s 11ms/step - loss: 0.4068 - accuracy: 0.8162 - val_loss: 0.4983 - val_accuracy: 0.7355\n",
            "Epoch 66/75\n",
            "3/3 [==============================] - 0s 11ms/step - loss: 0.4084 - accuracy: 0.8182 - val_loss: 0.4961 - val_accuracy: 0.7355\n",
            "Epoch 67/75\n",
            "3/3 [==============================] - 0s 12ms/step - loss: 0.4021 - accuracy: 0.8147 - val_loss: 0.4964 - val_accuracy: 0.7419\n",
            "Epoch 68/75\n",
            "3/3 [==============================] - 0s 11ms/step - loss: 0.4068 - accuracy: 0.8280 - val_loss: 0.4974 - val_accuracy: 0.7484\n",
            "Epoch 69/75\n",
            "3/3 [==============================] - 0s 11ms/step - loss: 0.4039 - accuracy: 0.8305 - val_loss: 0.4999 - val_accuracy: 0.7419\n",
            "Epoch 70/75\n",
            "3/3 [==============================] - 0s 13ms/step - loss: 0.3997 - accuracy: 0.8341 - val_loss: 0.5012 - val_accuracy: 0.7419\n",
            "Epoch 71/75\n",
            "3/3 [==============================] - 0s 11ms/step - loss: 0.4038 - accuracy: 0.8341 - val_loss: 0.4988 - val_accuracy: 0.7355\n",
            "Epoch 72/75\n",
            "3/3 [==============================] - 0s 11ms/step - loss: 0.4080 - accuracy: 0.8211 - val_loss: 0.4958 - val_accuracy: 0.7355\n",
            "Epoch 73/75\n",
            "3/3 [==============================] - 0s 13ms/step - loss: 0.4012 - accuracy: 0.8290 - val_loss: 0.4951 - val_accuracy: 0.7419\n",
            "Epoch 74/75\n",
            "3/3 [==============================] - 0s 13ms/step - loss: 0.3963 - accuracy: 0.8266 - val_loss: 0.5000 - val_accuracy: 0.7613\n",
            "Epoch 75/75\n",
            "3/3 [==============================] - 0s 10ms/step - loss: 0.3957 - accuracy: 0.8142 - val_loss: 0.5045 - val_accuracy: 0.7742\n"
          ],
          "name": "stdout"
        }
      ]
    },
    {
      "cell_type": "code",
      "metadata": {
        "id": "eTAEVLuHcpoj"
      },
      "source": [
        "y_pred =model.predict(X_test)\n",
        "y_pred =y_pred>0.5"
      ],
      "execution_count": 22,
      "outputs": []
    },
    {
      "cell_type": "code",
      "metadata": {
        "colab": {
          "base_uri": "https://localhost:8080/"
        },
        "id": "aP9bs_ENc_ry",
        "outputId": "6fe41786-7948-4c88-9cb6-034e11908976"
      },
      "source": [
        "from sklearn import metrics\n",
        "print(\"Accuracy_Score :\",metrics.accuracy_score(y_test,y_pred))\n",
        "print(\"Classification_report:\\n\",metrics.classification_report(y_test,y_pred))\n",
        "print(\"Confusion_matrix :\\n\",metrics.confusion_matrix(y_test,y_pred))"
      ],
      "execution_count": 23,
      "outputs": [
        {
          "output_type": "stream",
          "text": [
            "Accuracy_Score : 0.7393939393939394\n",
            "Classification_report:\n",
            "               precision    recall  f1-score   support\n",
            "\n",
            "           0       0.79      0.65      0.71       165\n",
            "           1       0.70      0.83      0.76       165\n",
            "\n",
            "    accuracy                           0.74       330\n",
            "   macro avg       0.75      0.74      0.74       330\n",
            "weighted avg       0.75      0.74      0.74       330\n",
            "\n",
            "Confusion_matrix :\n",
            " [[107  58]\n",
            " [ 28 137]]\n"
          ],
          "name": "stdout"
        }
      ]
    },
    {
      "cell_type": "code",
      "metadata": {
        "colab": {
          "base_uri": "https://localhost:8080/"
        },
        "id": "7SLZrfUAeZ_N",
        "outputId": "8a5fe25b-2f2e-4d83-d7c8-c52503fecbb2"
      },
      "source": [
        "!pip install keras-tuner"
      ],
      "execution_count": 24,
      "outputs": [
        {
          "output_type": "stream",
          "text": [
            "Requirement already satisfied: keras-tuner in /usr/local/lib/python3.7/dist-packages (1.0.3)\n",
            "Requirement already satisfied: tensorboard in /usr/local/lib/python3.7/dist-packages (from keras-tuner) (2.5.0)\n",
            "Requirement already satisfied: ipython in /usr/local/lib/python3.7/dist-packages (from keras-tuner) (5.5.0)\n",
            "Requirement already satisfied: packaging in /usr/local/lib/python3.7/dist-packages (from keras-tuner) (21.0)\n",
            "Requirement already satisfied: requests in /usr/local/lib/python3.7/dist-packages (from keras-tuner) (2.23.0)\n",
            "Requirement already satisfied: scipy in /usr/local/lib/python3.7/dist-packages (from keras-tuner) (1.4.1)\n",
            "Requirement already satisfied: numpy in /usr/local/lib/python3.7/dist-packages (from keras-tuner) (1.19.5)\n",
            "Requirement already satisfied: kt-legacy in /usr/local/lib/python3.7/dist-packages (from keras-tuner) (1.0.3)\n",
            "Requirement already satisfied: setuptools>=18.5 in /usr/local/lib/python3.7/dist-packages (from ipython->keras-tuner) (57.2.0)\n",
            "Requirement already satisfied: simplegeneric>0.8 in /usr/local/lib/python3.7/dist-packages (from ipython->keras-tuner) (0.8.1)\n",
            "Requirement already satisfied: decorator in /usr/local/lib/python3.7/dist-packages (from ipython->keras-tuner) (4.4.2)\n",
            "Requirement already satisfied: pexpect in /usr/local/lib/python3.7/dist-packages (from ipython->keras-tuner) (4.8.0)\n",
            "Requirement already satisfied: prompt-toolkit<2.0.0,>=1.0.4 in /usr/local/lib/python3.7/dist-packages (from ipython->keras-tuner) (1.0.18)\n",
            "Requirement already satisfied: traitlets>=4.2 in /usr/local/lib/python3.7/dist-packages (from ipython->keras-tuner) (5.0.5)\n",
            "Requirement already satisfied: pygments in /usr/local/lib/python3.7/dist-packages (from ipython->keras-tuner) (2.6.1)\n",
            "Requirement already satisfied: pickleshare in /usr/local/lib/python3.7/dist-packages (from ipython->keras-tuner) (0.7.5)\n",
            "Requirement already satisfied: wcwidth in /usr/local/lib/python3.7/dist-packages (from prompt-toolkit<2.0.0,>=1.0.4->ipython->keras-tuner) (0.2.5)\n",
            "Requirement already satisfied: six>=1.9.0 in /usr/local/lib/python3.7/dist-packages (from prompt-toolkit<2.0.0,>=1.0.4->ipython->keras-tuner) (1.15.0)\n",
            "Requirement already satisfied: ipython-genutils in /usr/local/lib/python3.7/dist-packages (from traitlets>=4.2->ipython->keras-tuner) (0.2.0)\n",
            "Requirement already satisfied: pyparsing>=2.0.2 in /usr/local/lib/python3.7/dist-packages (from packaging->keras-tuner) (2.4.7)\n",
            "Requirement already satisfied: ptyprocess>=0.5 in /usr/local/lib/python3.7/dist-packages (from pexpect->ipython->keras-tuner) (0.7.0)\n",
            "Requirement already satisfied: chardet<4,>=3.0.2 in /usr/local/lib/python3.7/dist-packages (from requests->keras-tuner) (3.0.4)\n",
            "Requirement already satisfied: urllib3!=1.25.0,!=1.25.1,<1.26,>=1.21.1 in /usr/local/lib/python3.7/dist-packages (from requests->keras-tuner) (1.24.3)\n",
            "Requirement already satisfied: certifi>=2017.4.17 in /usr/local/lib/python3.7/dist-packages (from requests->keras-tuner) (2021.5.30)\n",
            "Requirement already satisfied: idna<3,>=2.5 in /usr/local/lib/python3.7/dist-packages (from requests->keras-tuner) (2.10)\n",
            "Requirement already satisfied: werkzeug>=0.11.15 in /usr/local/lib/python3.7/dist-packages (from tensorboard->keras-tuner) (1.0.1)\n",
            "Requirement already satisfied: grpcio>=1.24.3 in /usr/local/lib/python3.7/dist-packages (from tensorboard->keras-tuner) (1.34.1)\n",
            "Requirement already satisfied: tensorboard-plugin-wit>=1.6.0 in /usr/local/lib/python3.7/dist-packages (from tensorboard->keras-tuner) (1.8.0)\n",
            "Requirement already satisfied: protobuf>=3.6.0 in /usr/local/lib/python3.7/dist-packages (from tensorboard->keras-tuner) (3.17.3)\n",
            "Requirement already satisfied: tensorboard-data-server<0.7.0,>=0.6.0 in /usr/local/lib/python3.7/dist-packages (from tensorboard->keras-tuner) (0.6.1)\n",
            "Requirement already satisfied: google-auth-oauthlib<0.5,>=0.4.1 in /usr/local/lib/python3.7/dist-packages (from tensorboard->keras-tuner) (0.4.4)\n",
            "Requirement already satisfied: google-auth<2,>=1.6.3 in /usr/local/lib/python3.7/dist-packages (from tensorboard->keras-tuner) (1.32.1)\n",
            "Requirement already satisfied: absl-py>=0.4 in /usr/local/lib/python3.7/dist-packages (from tensorboard->keras-tuner) (0.12.0)\n",
            "Requirement already satisfied: markdown>=2.6.8 in /usr/local/lib/python3.7/dist-packages (from tensorboard->keras-tuner) (3.3.4)\n",
            "Requirement already satisfied: wheel>=0.26 in /usr/local/lib/python3.7/dist-packages (from tensorboard->keras-tuner) (0.36.2)\n",
            "Requirement already satisfied: rsa<5,>=3.1.4 in /usr/local/lib/python3.7/dist-packages (from google-auth<2,>=1.6.3->tensorboard->keras-tuner) (4.7.2)\n",
            "Requirement already satisfied: pyasn1-modules>=0.2.1 in /usr/local/lib/python3.7/dist-packages (from google-auth<2,>=1.6.3->tensorboard->keras-tuner) (0.2.8)\n",
            "Requirement already satisfied: cachetools<5.0,>=2.0.0 in /usr/local/lib/python3.7/dist-packages (from google-auth<2,>=1.6.3->tensorboard->keras-tuner) (4.2.2)\n",
            "Requirement already satisfied: requests-oauthlib>=0.7.0 in /usr/local/lib/python3.7/dist-packages (from google-auth-oauthlib<0.5,>=0.4.1->tensorboard->keras-tuner) (1.3.0)\n",
            "Requirement already satisfied: importlib-metadata in /usr/local/lib/python3.7/dist-packages (from markdown>=2.6.8->tensorboard->keras-tuner) (4.6.1)\n",
            "Requirement already satisfied: pyasn1<0.5.0,>=0.4.6 in /usr/local/lib/python3.7/dist-packages (from pyasn1-modules>=0.2.1->google-auth<2,>=1.6.3->tensorboard->keras-tuner) (0.4.8)\n",
            "Requirement already satisfied: oauthlib>=3.0.0 in /usr/local/lib/python3.7/dist-packages (from requests-oauthlib>=0.7.0->google-auth-oauthlib<0.5,>=0.4.1->tensorboard->keras-tuner) (3.1.1)\n",
            "Requirement already satisfied: typing-extensions>=3.6.4 in /usr/local/lib/python3.7/dist-packages (from importlib-metadata->markdown>=2.6.8->tensorboard->keras-tuner) (3.7.4.3)\n",
            "Requirement already satisfied: zipp>=0.5 in /usr/local/lib/python3.7/dist-packages (from importlib-metadata->markdown>=2.6.8->tensorboard->keras-tuner) (3.5.0)\n"
          ],
          "name": "stdout"
        }
      ]
    },
    {
      "cell_type": "code",
      "metadata": {
        "id": "psfzq8EYeDCR"
      },
      "source": [
        "#hypertune_model\n",
        "from kerastuner import RandomSearch\n",
        "from kerastuner.engine.hyperparameters import HyperParameters"
      ],
      "execution_count": 25,
      "outputs": []
    },
    {
      "cell_type": "code",
      "metadata": {
        "id": "ZuR8fiQDfMzB"
      },
      "source": [
        "def build_model(hp):\n",
        "  model =keras.Sequential()\n",
        "  for i in range(hp.Int(\"num_layers\",2,25)):\n",
        "    model.add(layers.Dense(units=hp.Int('units_'+ str(i),\n",
        "                                  min_value=32,\n",
        "                                  max_value=256,\n",
        "                                  step=16),\n",
        "                           activation =hp.Choice('activation',values=['relu','tanh','elu','sigmoid','softmax'])))\n",
        "  model.add(layers.Dense(units=1,activation='sigmoid'))\n",
        "  model.compile(optimizer=keras.optimizers.Adam(\n",
        "        hp.Choice('learning_rate',[1e-2,1e-3,1e-4])),\n",
        "        loss='binary_crossentropy',metrics=['accuracy'])\n",
        "  return model"
      ],
      "execution_count": 26,
      "outputs": []
    },
    {
      "cell_type": "code",
      "metadata": {
        "id": "rwl6_M5wirLq"
      },
      "source": [
        "optimize =RandomSearch(build_model,\n",
        "                       objective='val_accuracy',\n",
        "                       max_trials=6,\n",
        "                       executions_per_trial=5,\n",
        "                       directory='Project_f',\n",
        "                       project_name='diabetic_model')"
      ],
      "execution_count": 31,
      "outputs": []
    },
    {
      "cell_type": "code",
      "metadata": {
        "colab": {
          "base_uri": "https://localhost:8080/"
        },
        "id": "auOIAgdEj4Uw",
        "outputId": "1d2c89ad-8b43-418e-d12d-c0d3f49450e0"
      },
      "source": [
        "optimize.search_space_summary()"
      ],
      "execution_count": 32,
      "outputs": [
        {
          "output_type": "stream",
          "text": [
            "Search space summary\n",
            "Default search space size: 5\n",
            "num_layers (Int)\n",
            "{'default': None, 'conditions': [], 'min_value': 2, 'max_value': 25, 'step': 1, 'sampling': None}\n",
            "units_0 (Int)\n",
            "{'default': None, 'conditions': [], 'min_value': 32, 'max_value': 256, 'step': 16, 'sampling': None}\n",
            "activation (Choice)\n",
            "{'default': 'relu', 'conditions': [], 'values': ['relu', 'tanh', 'elu', 'sigmoid', 'softmax'], 'ordered': False}\n",
            "units_1 (Int)\n",
            "{'default': None, 'conditions': [], 'min_value': 32, 'max_value': 256, 'step': 16, 'sampling': None}\n",
            "learning_rate (Choice)\n",
            "{'default': 0.01, 'conditions': [], 'values': [0.01, 0.001, 0.0001], 'ordered': True}\n"
          ],
          "name": "stdout"
        }
      ]
    },
    {
      "cell_type": "code",
      "metadata": {
        "colab": {
          "base_uri": "https://localhost:8080/"
        },
        "id": "fQXV0nbbm_IX",
        "outputId": "7c3bb481-aa6d-4b37-a84b-73c76a1d7fe3"
      },
      "source": [
        "optimize.search(X_train,y_train,epochs=10,validation_split=0.2)\n",
        "best_model =optimize.get_best_models()[0]"
      ],
      "execution_count": 33,
      "outputs": [
        {
          "output_type": "stream",
          "text": [
            "Trial 6 Complete [00h 00m 09s]\n",
            "val_accuracy: 0.4925373256206512\n",
            "\n",
            "Best val_accuracy So Far: 0.7522388100624084\n",
            "Total elapsed time: 00h 01m 13s\n",
            "INFO:tensorflow:Oracle triggered exit\n",
            "WARNING:tensorflow:Unresolved object in checkpoint: (root).optimizer.iter\n",
            "WARNING:tensorflow:Unresolved object in checkpoint: (root).optimizer.beta_1\n",
            "WARNING:tensorflow:Unresolved object in checkpoint: (root).optimizer.beta_2\n",
            "WARNING:tensorflow:Unresolved object in checkpoint: (root).optimizer.decay\n",
            "WARNING:tensorflow:Unresolved object in checkpoint: (root).optimizer.learning_rate\n",
            "WARNING:tensorflow:Unresolved object in checkpoint: (root).layer_with_weights-0._module.kernel\n",
            "WARNING:tensorflow:Unresolved object in checkpoint: (root).layer_with_weights-0._module.bias\n",
            "WARNING:tensorflow:Unresolved object in checkpoint: (root).layer_with_weights-1._module.kernel\n",
            "WARNING:tensorflow:Unresolved object in checkpoint: (root).layer_with_weights-1._module.bias\n",
            "WARNING:tensorflow:Unresolved object in checkpoint: (root).layer_with_weights-2._module.kernel\n",
            "WARNING:tensorflow:Unresolved object in checkpoint: (root).layer_with_weights-2._module.bias\n",
            "WARNING:tensorflow:Unresolved object in checkpoint: (root).layer_with_weights-3._module.kernel\n",
            "WARNING:tensorflow:Unresolved object in checkpoint: (root).layer_with_weights-3._module.bias\n",
            "WARNING:tensorflow:Unresolved object in checkpoint: (root).layer_with_weights-4._module.kernel\n",
            "WARNING:tensorflow:Unresolved object in checkpoint: (root).layer_with_weights-4._module.bias\n",
            "WARNING:tensorflow:Unresolved object in checkpoint: (root).layer_with_weights-5._module.kernel\n",
            "WARNING:tensorflow:Unresolved object in checkpoint: (root).layer_with_weights-5._module.bias\n",
            "WARNING:tensorflow:Unresolved object in checkpoint: (root).layer_with_weights-6._module.kernel\n",
            "WARNING:tensorflow:Unresolved object in checkpoint: (root).layer_with_weights-6._module.bias\n",
            "WARNING:tensorflow:Unresolved object in checkpoint: (root).layer_with_weights-7._module.kernel\n",
            "WARNING:tensorflow:Unresolved object in checkpoint: (root).layer_with_weights-7._module.bias\n",
            "WARNING:tensorflow:Unresolved object in checkpoint: (root).layer_with_weights-8._module.kernel\n",
            "WARNING:tensorflow:Unresolved object in checkpoint: (root).layer_with_weights-8._module.bias\n",
            "WARNING:tensorflow:Unresolved object in checkpoint: (root).layer_with_weights-9._module.kernel\n",
            "WARNING:tensorflow:Unresolved object in checkpoint: (root).layer_with_weights-9._module.bias\n",
            "WARNING:tensorflow:Unresolved object in checkpoint: (root).layer_with_weights-10._module.kernel\n",
            "WARNING:tensorflow:Unresolved object in checkpoint: (root).layer_with_weights-10._module.bias\n",
            "WARNING:tensorflow:Unresolved object in checkpoint: (root).layer_with_weights-11._module.kernel\n",
            "WARNING:tensorflow:Unresolved object in checkpoint: (root).layer_with_weights-11._module.bias\n",
            "WARNING:tensorflow:Unresolved object in checkpoint: (root).layer_with_weights-12._module.kernel\n",
            "WARNING:tensorflow:Unresolved object in checkpoint: (root).layer_with_weights-12._module.bias\n",
            "WARNING:tensorflow:Unresolved object in checkpoint: (root).layer_with_weights-13._module.kernel\n",
            "WARNING:tensorflow:Unresolved object in checkpoint: (root).layer_with_weights-13._module.bias\n",
            "WARNING:tensorflow:Unresolved object in checkpoint: (root).layer_with_weights-14._module.kernel\n",
            "WARNING:tensorflow:Unresolved object in checkpoint: (root).layer_with_weights-14._module.bias\n",
            "WARNING:tensorflow:Unresolved object in checkpoint: (root).layer_with_weights-15._module.kernel\n",
            "WARNING:tensorflow:Unresolved object in checkpoint: (root).layer_with_weights-15._module.bias\n",
            "WARNING:tensorflow:Unresolved object in checkpoint: (root).layer_with_weights-16._module.kernel\n",
            "WARNING:tensorflow:Unresolved object in checkpoint: (root).layer_with_weights-16._module.bias\n",
            "WARNING:tensorflow:Unresolved object in checkpoint: (root).layer_with_weights-17._module.kernel\n",
            "WARNING:tensorflow:Unresolved object in checkpoint: (root).layer_with_weights-17._module.bias\n",
            "WARNING:tensorflow:Unresolved object in checkpoint: (root).layer_with_weights-18._module.kernel\n",
            "WARNING:tensorflow:Unresolved object in checkpoint: (root).layer_with_weights-18._module.bias\n",
            "WARNING:tensorflow:Unresolved object in checkpoint: (root).layer_with_weights-19._module.kernel\n",
            "WARNING:tensorflow:Unresolved object in checkpoint: (root).layer_with_weights-19._module.bias\n",
            "WARNING:tensorflow:Unresolved object in checkpoint: (root).layer_with_weights-20._module.kernel\n",
            "WARNING:tensorflow:Unresolved object in checkpoint: (root).layer_with_weights-20._module.bias\n",
            "WARNING:tensorflow:Unresolved object in checkpoint: (root).optimizer's state 'm' for (root).layer_with_weights-0._module.kernel\n",
            "WARNING:tensorflow:Unresolved object in checkpoint: (root).optimizer's state 'm' for (root).layer_with_weights-0._module.bias\n",
            "WARNING:tensorflow:Unresolved object in checkpoint: (root).optimizer's state 'm' for (root).layer_with_weights-1._module.kernel\n",
            "WARNING:tensorflow:Unresolved object in checkpoint: (root).optimizer's state 'm' for (root).layer_with_weights-1._module.bias\n",
            "WARNING:tensorflow:Unresolved object in checkpoint: (root).optimizer's state 'm' for (root).layer_with_weights-2._module.kernel\n",
            "WARNING:tensorflow:Unresolved object in checkpoint: (root).optimizer's state 'm' for (root).layer_with_weights-2._module.bias\n",
            "WARNING:tensorflow:Unresolved object in checkpoint: (root).optimizer's state 'm' for (root).layer_with_weights-3._module.kernel\n",
            "WARNING:tensorflow:Unresolved object in checkpoint: (root).optimizer's state 'm' for (root).layer_with_weights-3._module.bias\n",
            "WARNING:tensorflow:Unresolved object in checkpoint: (root).optimizer's state 'm' for (root).layer_with_weights-4._module.kernel\n",
            "WARNING:tensorflow:Unresolved object in checkpoint: (root).optimizer's state 'm' for (root).layer_with_weights-4._module.bias\n",
            "WARNING:tensorflow:Unresolved object in checkpoint: (root).optimizer's state 'm' for (root).layer_with_weights-5._module.kernel\n",
            "WARNING:tensorflow:Unresolved object in checkpoint: (root).optimizer's state 'm' for (root).layer_with_weights-5._module.bias\n",
            "WARNING:tensorflow:Unresolved object in checkpoint: (root).optimizer's state 'm' for (root).layer_with_weights-6._module.kernel\n",
            "WARNING:tensorflow:Unresolved object in checkpoint: (root).optimizer's state 'm' for (root).layer_with_weights-6._module.bias\n",
            "WARNING:tensorflow:Unresolved object in checkpoint: (root).optimizer's state 'm' for (root).layer_with_weights-7._module.kernel\n",
            "WARNING:tensorflow:Unresolved object in checkpoint: (root).optimizer's state 'm' for (root).layer_with_weights-7._module.bias\n",
            "WARNING:tensorflow:Unresolved object in checkpoint: (root).optimizer's state 'm' for (root).layer_with_weights-8._module.kernel\n",
            "WARNING:tensorflow:Unresolved object in checkpoint: (root).optimizer's state 'm' for (root).layer_with_weights-8._module.bias\n",
            "WARNING:tensorflow:Unresolved object in checkpoint: (root).optimizer's state 'm' for (root).layer_with_weights-9._module.kernel\n",
            "WARNING:tensorflow:Unresolved object in checkpoint: (root).optimizer's state 'm' for (root).layer_with_weights-9._module.bias\n",
            "WARNING:tensorflow:Unresolved object in checkpoint: (root).optimizer's state 'm' for (root).layer_with_weights-10._module.kernel\n",
            "WARNING:tensorflow:Unresolved object in checkpoint: (root).optimizer's state 'm' for (root).layer_with_weights-10._module.bias\n",
            "WARNING:tensorflow:Unresolved object in checkpoint: (root).optimizer's state 'm' for (root).layer_with_weights-11._module.kernel\n",
            "WARNING:tensorflow:Unresolved object in checkpoint: (root).optimizer's state 'm' for (root).layer_with_weights-11._module.bias\n",
            "WARNING:tensorflow:Unresolved object in checkpoint: (root).optimizer's state 'm' for (root).layer_with_weights-12._module.kernel\n",
            "WARNING:tensorflow:Unresolved object in checkpoint: (root).optimizer's state 'm' for (root).layer_with_weights-12._module.bias\n",
            "WARNING:tensorflow:Unresolved object in checkpoint: (root).optimizer's state 'm' for (root).layer_with_weights-13._module.kernel\n",
            "WARNING:tensorflow:Unresolved object in checkpoint: (root).optimizer's state 'm' for (root).layer_with_weights-13._module.bias\n",
            "WARNING:tensorflow:Unresolved object in checkpoint: (root).optimizer's state 'm' for (root).layer_with_weights-14._module.kernel\n",
            "WARNING:tensorflow:Unresolved object in checkpoint: (root).optimizer's state 'm' for (root).layer_with_weights-14._module.bias\n",
            "WARNING:tensorflow:Unresolved object in checkpoint: (root).optimizer's state 'm' for (root).layer_with_weights-15._module.kernel\n",
            "WARNING:tensorflow:Unresolved object in checkpoint: (root).optimizer's state 'm' for (root).layer_with_weights-15._module.bias\n",
            "WARNING:tensorflow:Unresolved object in checkpoint: (root).optimizer's state 'm' for (root).layer_with_weights-16._module.kernel\n",
            "WARNING:tensorflow:Unresolved object in checkpoint: (root).optimizer's state 'm' for (root).layer_with_weights-16._module.bias\n",
            "WARNING:tensorflow:Unresolved object in checkpoint: (root).optimizer's state 'm' for (root).layer_with_weights-17._module.kernel\n",
            "WARNING:tensorflow:Unresolved object in checkpoint: (root).optimizer's state 'm' for (root).layer_with_weights-17._module.bias\n",
            "WARNING:tensorflow:Unresolved object in checkpoint: (root).optimizer's state 'm' for (root).layer_with_weights-18._module.kernel\n",
            "WARNING:tensorflow:Unresolved object in checkpoint: (root).optimizer's state 'm' for (root).layer_with_weights-18._module.bias\n",
            "WARNING:tensorflow:Unresolved object in checkpoint: (root).optimizer's state 'm' for (root).layer_with_weights-19._module.kernel\n",
            "WARNING:tensorflow:Unresolved object in checkpoint: (root).optimizer's state 'm' for (root).layer_with_weights-19._module.bias\n",
            "WARNING:tensorflow:Unresolved object in checkpoint: (root).optimizer's state 'm' for (root).layer_with_weights-20._module.kernel\n",
            "WARNING:tensorflow:Unresolved object in checkpoint: (root).optimizer's state 'm' for (root).layer_with_weights-20._module.bias\n",
            "WARNING:tensorflow:Unresolved object in checkpoint: (root).optimizer's state 'v' for (root).layer_with_weights-0._module.kernel\n",
            "WARNING:tensorflow:Unresolved object in checkpoint: (root).optimizer's state 'v' for (root).layer_with_weights-0._module.bias\n",
            "WARNING:tensorflow:Unresolved object in checkpoint: (root).optimizer's state 'v' for (root).layer_with_weights-1._module.kernel\n",
            "WARNING:tensorflow:Unresolved object in checkpoint: (root).optimizer's state 'v' for (root).layer_with_weights-1._module.bias\n",
            "WARNING:tensorflow:Unresolved object in checkpoint: (root).optimizer's state 'v' for (root).layer_with_weights-2._module.kernel\n",
            "WARNING:tensorflow:Unresolved object in checkpoint: (root).optimizer's state 'v' for (root).layer_with_weights-2._module.bias\n",
            "WARNING:tensorflow:Unresolved object in checkpoint: (root).optimizer's state 'v' for (root).layer_with_weights-3._module.kernel\n",
            "WARNING:tensorflow:Unresolved object in checkpoint: (root).optimizer's state 'v' for (root).layer_with_weights-3._module.bias\n",
            "WARNING:tensorflow:Unresolved object in checkpoint: (root).optimizer's state 'v' for (root).layer_with_weights-4._module.kernel\n",
            "WARNING:tensorflow:Unresolved object in checkpoint: (root).optimizer's state 'v' for (root).layer_with_weights-4._module.bias\n",
            "WARNING:tensorflow:Unresolved object in checkpoint: (root).optimizer's state 'v' for (root).layer_with_weights-5._module.kernel\n",
            "WARNING:tensorflow:Unresolved object in checkpoint: (root).optimizer's state 'v' for (root).layer_with_weights-5._module.bias\n",
            "WARNING:tensorflow:Unresolved object in checkpoint: (root).optimizer's state 'v' for (root).layer_with_weights-6._module.kernel\n",
            "WARNING:tensorflow:Unresolved object in checkpoint: (root).optimizer's state 'v' for (root).layer_with_weights-6._module.bias\n",
            "WARNING:tensorflow:Unresolved object in checkpoint: (root).optimizer's state 'v' for (root).layer_with_weights-7._module.kernel\n",
            "WARNING:tensorflow:Unresolved object in checkpoint: (root).optimizer's state 'v' for (root).layer_with_weights-7._module.bias\n",
            "WARNING:tensorflow:Unresolved object in checkpoint: (root).optimizer's state 'v' for (root).layer_with_weights-8._module.kernel\n",
            "WARNING:tensorflow:Unresolved object in checkpoint: (root).optimizer's state 'v' for (root).layer_with_weights-8._module.bias\n",
            "WARNING:tensorflow:Unresolved object in checkpoint: (root).optimizer's state 'v' for (root).layer_with_weights-9._module.kernel\n",
            "WARNING:tensorflow:Unresolved object in checkpoint: (root).optimizer's state 'v' for (root).layer_with_weights-9._module.bias\n",
            "WARNING:tensorflow:Unresolved object in checkpoint: (root).optimizer's state 'v' for (root).layer_with_weights-10._module.kernel\n",
            "WARNING:tensorflow:Unresolved object in checkpoint: (root).optimizer's state 'v' for (root).layer_with_weights-10._module.bias\n",
            "WARNING:tensorflow:Unresolved object in checkpoint: (root).optimizer's state 'v' for (root).layer_with_weights-11._module.kernel\n",
            "WARNING:tensorflow:Unresolved object in checkpoint: (root).optimizer's state 'v' for (root).layer_with_weights-11._module.bias\n",
            "WARNING:tensorflow:Unresolved object in checkpoint: (root).optimizer's state 'v' for (root).layer_with_weights-12._module.kernel\n",
            "WARNING:tensorflow:Unresolved object in checkpoint: (root).optimizer's state 'v' for (root).layer_with_weights-12._module.bias\n",
            "WARNING:tensorflow:Unresolved object in checkpoint: (root).optimizer's state 'v' for (root).layer_with_weights-13._module.kernel\n",
            "WARNING:tensorflow:Unresolved object in checkpoint: (root).optimizer's state 'v' for (root).layer_with_weights-13._module.bias\n",
            "WARNING:tensorflow:Unresolved object in checkpoint: (root).optimizer's state 'v' for (root).layer_with_weights-14._module.kernel\n",
            "WARNING:tensorflow:Unresolved object in checkpoint: (root).optimizer's state 'v' for (root).layer_with_weights-14._module.bias\n",
            "WARNING:tensorflow:Unresolved object in checkpoint: (root).optimizer's state 'v' for (root).layer_with_weights-15._module.kernel\n",
            "WARNING:tensorflow:Unresolved object in checkpoint: (root).optimizer's state 'v' for (root).layer_with_weights-15._module.bias\n",
            "WARNING:tensorflow:Unresolved object in checkpoint: (root).optimizer's state 'v' for (root).layer_with_weights-16._module.kernel\n",
            "WARNING:tensorflow:Unresolved object in checkpoint: (root).optimizer's state 'v' for (root).layer_with_weights-16._module.bias\n",
            "WARNING:tensorflow:Unresolved object in checkpoint: (root).optimizer's state 'v' for (root).layer_with_weights-17._module.kernel\n",
            "WARNING:tensorflow:Unresolved object in checkpoint: (root).optimizer's state 'v' for (root).layer_with_weights-17._module.bias\n",
            "WARNING:tensorflow:Unresolved object in checkpoint: (root).optimizer's state 'v' for (root).layer_with_weights-18._module.kernel\n",
            "WARNING:tensorflow:Unresolved object in checkpoint: (root).optimizer's state 'v' for (root).layer_with_weights-18._module.bias\n",
            "WARNING:tensorflow:Unresolved object in checkpoint: (root).optimizer's state 'v' for (root).layer_with_weights-19._module.kernel\n",
            "WARNING:tensorflow:Unresolved object in checkpoint: (root).optimizer's state 'v' for (root).layer_with_weights-19._module.bias\n",
            "WARNING:tensorflow:Unresolved object in checkpoint: (root).optimizer's state 'v' for (root).layer_with_weights-20._module.kernel\n",
            "WARNING:tensorflow:Unresolved object in checkpoint: (root).optimizer's state 'v' for (root).layer_with_weights-20._module.bias\n",
            "WARNING:tensorflow:A checkpoint was restored (e.g. tf.train.Checkpoint.restore or tf.keras.Model.load_weights) but not all checkpointed values were used. See above for specific issues. Use expect_partial() on the load status object, e.g. tf.train.Checkpoint.restore(...).expect_partial(), to silence these warnings, or use assert_consumed() to make the check explicit. See https://www.tensorflow.org/guide/checkpoint#loading_mechanics for details.\n"
          ],
          "name": "stdout"
        }
      ]
    },
    {
      "cell_type": "code",
      "metadata": {
        "colab": {
          "base_uri": "https://localhost:8080/"
        },
        "id": "i3v0nKucqToX",
        "outputId": "df3286b3-0c81-44fa-8b12-9d9e10d194ce"
      },
      "source": [
        "optimize.results_summary()"
      ],
      "execution_count": 34,
      "outputs": [
        {
          "output_type": "stream",
          "text": [
            "Results summary\n",
            "Results in Project_f/diabetic_model\n",
            "Showing 10 best trials\n",
            "Objective(name='val_accuracy', direction='max')\n",
            "Trial summary\n",
            "Hyperparameters:\n",
            "num_layers: 4\n",
            "units_0: 160\n",
            "activation: tanh\n",
            "units_1: 224\n",
            "learning_rate: 0.0001\n",
            "units_2: 112\n",
            "units_3: 176\n",
            "units_4: 48\n",
            "units_5: 176\n",
            "units_6: 192\n",
            "units_7: 240\n",
            "units_8: 112\n",
            "units_9: 208\n",
            "units_10: 32\n",
            "units_11: 160\n",
            "units_12: 240\n",
            "units_13: 160\n",
            "units_14: 240\n",
            "units_15: 192\n",
            "units_16: 64\n",
            "units_17: 48\n",
            "units_18: 192\n",
            "units_19: 144\n",
            "units_20: 144\n",
            "units_21: 96\n",
            "Score: 0.7522388100624084\n",
            "Trial summary\n",
            "Hyperparameters:\n",
            "num_layers: 22\n",
            "units_0: 112\n",
            "activation: tanh\n",
            "units_1: 64\n",
            "learning_rate: 0.001\n",
            "units_2: 208\n",
            "units_3: 112\n",
            "units_4: 160\n",
            "units_5: 256\n",
            "units_6: 256\n",
            "units_7: 240\n",
            "units_8: 32\n",
            "units_9: 176\n",
            "units_10: 208\n",
            "units_11: 160\n",
            "units_12: 96\n",
            "units_13: 96\n",
            "units_14: 224\n",
            "units_15: 160\n",
            "units_16: 144\n",
            "units_17: 32\n",
            "units_18: 32\n",
            "units_19: 32\n",
            "units_20: 32\n",
            "units_21: 32\n",
            "Score: 0.7268656611442565\n",
            "Trial summary\n",
            "Hyperparameters:\n",
            "num_layers: 9\n",
            "units_0: 240\n",
            "activation: tanh\n",
            "units_1: 160\n",
            "learning_rate: 0.01\n",
            "units_2: 112\n",
            "units_3: 224\n",
            "units_4: 80\n",
            "units_5: 256\n",
            "units_6: 176\n",
            "units_7: 48\n",
            "units_8: 112\n",
            "units_9: 64\n",
            "units_10: 192\n",
            "units_11: 192\n",
            "units_12: 112\n",
            "units_13: 64\n",
            "units_14: 64\n",
            "units_15: 96\n",
            "units_16: 144\n",
            "units_17: 48\n",
            "units_18: 240\n",
            "units_19: 48\n",
            "units_20: 64\n",
            "units_21: 208\n",
            "Score: 0.7074626922607422\n",
            "Trial summary\n",
            "Hyperparameters:\n",
            "num_layers: 23\n",
            "units_0: 80\n",
            "activation: softmax\n",
            "units_1: 64\n",
            "learning_rate: 0.01\n",
            "units_2: 176\n",
            "units_3: 160\n",
            "units_4: 192\n",
            "units_5: 80\n",
            "units_6: 192\n",
            "units_7: 192\n",
            "units_8: 80\n",
            "units_9: 48\n",
            "units_10: 208\n",
            "units_11: 96\n",
            "units_12: 128\n",
            "units_13: 64\n",
            "units_14: 208\n",
            "units_15: 192\n",
            "units_16: 144\n",
            "units_17: 208\n",
            "units_18: 96\n",
            "units_19: 160\n",
            "units_20: 48\n",
            "units_21: 192\n",
            "units_22: 32\n",
            "Score: 0.5074627041816712\n",
            "Trial summary\n",
            "Hyperparameters:\n",
            "num_layers: 8\n",
            "units_0: 208\n",
            "activation: softmax\n",
            "units_1: 144\n",
            "learning_rate: 0.001\n",
            "units_2: 160\n",
            "units_3: 64\n",
            "units_4: 176\n",
            "units_5: 176\n",
            "units_6: 96\n",
            "units_7: 96\n",
            "units_8: 144\n",
            "units_9: 48\n",
            "units_10: 64\n",
            "units_11: 128\n",
            "units_12: 80\n",
            "units_13: 240\n",
            "units_14: 256\n",
            "units_15: 32\n",
            "units_16: 48\n",
            "units_17: 64\n",
            "units_18: 96\n",
            "units_19: 96\n",
            "units_20: 240\n",
            "units_21: 48\n",
            "units_22: 256\n",
            "Score: 0.4925373256206512\n",
            "Trial summary\n",
            "Hyperparameters:\n",
            "num_layers: 17\n",
            "units_0: 160\n",
            "activation: sigmoid\n",
            "units_1: 240\n",
            "learning_rate: 0.0001\n",
            "units_2: 32\n",
            "units_3: 32\n",
            "units_4: 32\n",
            "units_5: 32\n",
            "units_6: 32\n",
            "units_7: 32\n",
            "units_8: 32\n",
            "units_9: 32\n",
            "units_10: 32\n",
            "units_11: 32\n",
            "units_12: 32\n",
            "units_13: 32\n",
            "units_14: 32\n",
            "units_15: 32\n",
            "units_16: 32\n",
            "Score: 0.47761194705963134\n"
          ],
          "name": "stdout"
        }
      ]
    },
    {
      "cell_type": "code",
      "metadata": {
        "id": "UH6m8fN_rJ00"
      },
      "source": [
        ""
      ],
      "execution_count": null,
      "outputs": []
    }
  ]
}